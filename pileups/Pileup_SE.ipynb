{
 "cells": [
  {
   "cell_type": "code",
   "execution_count": 1,
   "id": "3b62ab86-52bd-4d60-a8dd-bcfa79481fb9",
   "metadata": {},
   "outputs": [],
   "source": [
    "import sys\n",
    "sys.path.append('./code')\n",
    "from importlib import reload"
   ]
  },
  {
   "cell_type": "code",
   "execution_count": 2,
   "id": "cad15e8d-1d21-4a6f-8ab0-77c73d992f34",
   "metadata": {},
   "outputs": [],
   "source": [
    "import make_figure4\n",
    "reload(make_figure4)\n",
    "from make_figure4 import *\n",
    "import pickle\n",
    "\n",
    "from config import load_pileup_variables\n",
    "\n",
    "(goodinds, merged_clustdict, merged_inds_to_subset, \n",
    "    cooldict_50kb, ind_to_gene, all_ind_to_region, my_treg_comp) = load_pileup_variables()\n",
    "\n"
   ]
  },
  {
   "cell_type": "code",
   "execution_count": 3,
   "id": "de013859-d9d8-480f-a649-b858e04f1c1f",
   "metadata": {},
   "outputs": [],
   "source": [
    "%load_ext autoreload\n",
    "%autoreload\n",
    "import scanpy as sc\n",
    "\n",
    "sc.settings.set_figure_params(dpi=80, color_map='coolwarm', frameon=True)\n",
    "plt.rcParams.update({'font.size': 12})\n",
    "plt.rcParams.update({\"axes.grid.axis\" : 'both'})\n",
    "plt.rcParams.update({\"axes.grid\" : True})\n",
    "\n",
    "plt.rcParams.update({\n",
    "    'axes.labelsize': 14,       # x and y labels' font size\n",
    "    'xtick.labelsize': 8,      # x tick labels' font size\n",
    "    'ytick.labelsize': 8,      # y tick labels' font size\n",
    "    'axes.titlesize': 14,        # Axes title font size\n",
    "    'patch.linewidth' : .35,\n",
    "    'lines.linewidth' : .5,\n",
    "    'legend.fontsize': 6,      # Legend font size\n",
    "})\n",
    "plt.rcParams['pdf.fonttype'] = 42\n",
    "\n",
    "plt.rcParams.update({\n",
    "    'axes.labelsize': 8,       # x and y labels' font size\n",
    "    'xtick.labelsize': 6,      # x tick labels' font size\n",
    "    'ytick.labelsize': 6,      # y tick labels' font size\n",
    "    'axes.titlesize': 10,        # Axes title font size\n",
    "    'patch.linewidth' : .35,\n",
    "    'lines.linewidth' : .5,\n",
    "    'xtick.major.pad' : 2,\n",
    "    'ytick.major.pad' : 2,\n",
    "\n",
    "})\n",
    "plt.rcParams['axes.linewidth'] = .25\n",
    "plt.rcParams['xtick.major.width'] = .25\n",
    "plt.rcParams['ytick.major.width'] = .25\n",
    "plt.rcParams['ytick.major.size'] = 2\n",
    "plt.rcParams['xtick.major.size'] = 2\n",
    "plt.rcParams['grid.linewidth'] = .25\n",
    "\n",
    "plt.rcParams['axes.facecolor'] = 'none' # Or any suitable colour...\n",
    "plt.rcParams['figure.facecolor'] = 'none'\n",
    "plt.rcParams['axes.facecolor'] = 'white'\n",
    "plt.rcParams['savefig.facecolor'] = 'none'"
   ]
  },
  {
   "cell_type": "code",
   "execution_count": 4,
   "id": "ab402c11-b430-4345-ad2a-d7e29557ae04",
   "metadata": {},
   "outputs": [],
   "source": [
    "from initialize import *\n",
    "import cooler \n",
    "\n",
    "treg_250kb = cooler.Cooler('./Treg_all.mcool::/resolutions/250000')\n",
    "treg_50kb = cooler.Cooler('./Treg_all.mcool::/resolutions/50000')\n",
    "treg_25kb = cooler.Cooler('./Treg_all.mcool::/resolutions/25000')\n",
    "\n",
    "\n",
    "(chromsizes, parsed_chroms, region_to_inds, \n",
    "    all_region_to_ind, inds_to_region, all_ind_to_region, \n",
    "    chrom_to_start, chrom_to_end) = initialize_helper_vars(treg_250kb)"
   ]
  },
  {
   "cell_type": "code",
   "execution_count": 5,
   "id": "93ad5683-9616-42a1-a656-83518cbd3c9b",
   "metadata": {},
   "outputs": [],
   "source": [
    "gene_to_ind = pickle.load(open('gene_to_ind.p', 'rb'))"
   ]
  },
  {
   "cell_type": "code",
   "execution_count": null,
   "id": "ffb21631-30af-49cd-b5f5-22cfd3f420b3",
   "metadata": {},
   "outputs": [],
   "source": []
  },
  {
   "cell_type": "code",
   "execution_count": 6,
   "id": "2490fd24-eb46-4eb5-b9c3-b498b171dbad",
   "metadata": {},
   "outputs": [],
   "source": [
    "(chromsizes_25kb, parsed_chroms_25kb, region_to_inds_25kb, \n",
    "    all_region_to_ind_25kb, inds_to_region_25kb, all_ind_to_region_25kb, \n",
    "    chrom_to_start_25kb, chrom_to_end_25kb) = initialize_helper_vars(treg_25kb)\n",
    "\n",
    "(chromsizes_50kb, parsed_chroms_50kb, region_to_inds_50kb, \n",
    "    all_region_to_ind_50kb, inds_to_region_50kb, all_ind_to_region_50kb, \n",
    "    chrom_to_start_50kb, chrom_to_end_50kb) = initialize_helper_vars(treg_50kb)"
   ]
  },
  {
   "cell_type": "code",
   "execution_count": 9,
   "id": "8949d7cb-fa70-481e-84e3-c20ffc7c627e",
   "metadata": {},
   "outputs": [],
   "source": [
    "inter_and_intra_metadomains_treg = (  np.load('./intermediate_files/all_intra_treg_metadomains.npy')\n",
    "                                    + np.load('./intermediate_files/all_inter_treg_metadomains.npy')\n",
    "                                   )\n",
    "inter_and_intra_metadomains_tcon = (  np.load('./intermediate_files/all_intra_tcon_metadomains.npy')\n",
    "                                    + np.load('./intermediate_files/all_inter_tcon_metadomains.npy')\n",
    "                                   )"
   ]
  },
  {
   "cell_type": "code",
   "execution_count": null,
   "id": "bdb9767c-156b-41ef-9e79-68eae5d25ff7",
   "metadata": {},
   "outputs": [],
   "source": []
  },
  {
   "cell_type": "code",
   "execution_count": 10,
   "id": "4bc1d8c4-7739-4c39-8f92-be009e236db4",
   "metadata": {},
   "outputs": [],
   "source": [
    "SEs = pbt.BedTool('superenhancers/common_SE_liftover.bed')\n",
    "SE_treg = pbt.BedTool('superenhancers/Treg_SE_liftover.bed')\n",
    "# SE_tn = pbt.BedTool('superenhancers/Tn_SE_liftover.bed')\n",
    "SEs = SEs.cat(SE_treg)#.cat(SE_tn)\n",
    "\n",
    "SE_count = get_col(pbt.BedTool(add_chr_to_bedtool(all_ind_to_region)).intersect(SEs, c=True), -1).astype(int)\n",
    "\n",
    "df = pd.DataFrame([np.where(SE_count)[0]]).T\n",
    "df[1] = 'SE'\n",
    "df.columns = ['ind', 'cluster']\n",
    "df['chrom'] = [all_ind_to_region[x][0] for x in df['ind'].values]\n",
    "df['chrom'] = df['chrom']"
   ]
  },
  {
   "cell_type": "code",
   "execution_count": 12,
   "id": "2093f371-5684-4985-a472-3181d2bcb923",
   "metadata": {},
   "outputs": [
    {
     "name": "stderr",
     "output_type": "stream",
     "text": [
      "/Genomics/pritykinlab/gabe/jupys/tregs/./code/hic_zscore_functions.py:148: RuntimeWarning: Mean of empty slice\n",
      "  m = np.nanmean(np.diag(balanced_mat, k=off_diag_k))\n"
     ]
    },
    {
     "name": "stdout",
     "output_type": "stream",
     "text": [
      "Done with 1\n"
     ]
    },
    {
     "name": "stderr",
     "output_type": "stream",
     "text": [
      "/Genomics/pritykinlab/gabe/jupys/tregs/./code/hic_zscore_functions.py:148: RuntimeWarning: Mean of empty slice\n",
      "  m = np.nanmean(np.diag(balanced_mat, k=off_diag_k))\n"
     ]
    },
    {
     "name": "stdout",
     "output_type": "stream",
     "text": [
      "Done with 10\n"
     ]
    },
    {
     "name": "stderr",
     "output_type": "stream",
     "text": [
      "/Genomics/pritykinlab/gabe/jupys/tregs/./code/hic_zscore_functions.py:148: RuntimeWarning: Mean of empty slice\n",
      "  m = np.nanmean(np.diag(balanced_mat, k=off_diag_k))\n"
     ]
    },
    {
     "name": "stdout",
     "output_type": "stream",
     "text": [
      "Done with 11\n"
     ]
    },
    {
     "name": "stderr",
     "output_type": "stream",
     "text": [
      "/Genomics/pritykinlab/gabe/jupys/tregs/./code/hic_zscore_functions.py:148: RuntimeWarning: Mean of empty slice\n",
      "  m = np.nanmean(np.diag(balanced_mat, k=off_diag_k))\n"
     ]
    },
    {
     "name": "stdout",
     "output_type": "stream",
     "text": [
      "Done with 12\n"
     ]
    },
    {
     "name": "stderr",
     "output_type": "stream",
     "text": [
      "/Genomics/pritykinlab/gabe/jupys/tregs/./code/hic_zscore_functions.py:148: RuntimeWarning: Mean of empty slice\n",
      "  m = np.nanmean(np.diag(balanced_mat, k=off_diag_k))\n"
     ]
    },
    {
     "name": "stdout",
     "output_type": "stream",
     "text": [
      "Done with 13\n"
     ]
    },
    {
     "name": "stderr",
     "output_type": "stream",
     "text": [
      "/Genomics/pritykinlab/gabe/jupys/tregs/./code/hic_zscore_functions.py:148: RuntimeWarning: Mean of empty slice\n",
      "  m = np.nanmean(np.diag(balanced_mat, k=off_diag_k))\n"
     ]
    },
    {
     "name": "stdout",
     "output_type": "stream",
     "text": [
      "Done with 14\n"
     ]
    },
    {
     "name": "stderr",
     "output_type": "stream",
     "text": [
      "/Genomics/pritykinlab/gabe/jupys/tregs/./code/hic_zscore_functions.py:148: RuntimeWarning: Mean of empty slice\n",
      "  m = np.nanmean(np.diag(balanced_mat, k=off_diag_k))\n"
     ]
    },
    {
     "name": "stdout",
     "output_type": "stream",
     "text": [
      "Done with 15\n"
     ]
    },
    {
     "name": "stderr",
     "output_type": "stream",
     "text": [
      "/Genomics/pritykinlab/gabe/jupys/tregs/./code/hic_zscore_functions.py:148: RuntimeWarning: Mean of empty slice\n",
      "  m = np.nanmean(np.diag(balanced_mat, k=off_diag_k))\n"
     ]
    },
    {
     "name": "stdout",
     "output_type": "stream",
     "text": [
      "Done with 16\n"
     ]
    },
    {
     "name": "stderr",
     "output_type": "stream",
     "text": [
      "/Genomics/pritykinlab/gabe/jupys/tregs/./code/hic_zscore_functions.py:148: RuntimeWarning: Mean of empty slice\n",
      "  m = np.nanmean(np.diag(balanced_mat, k=off_diag_k))\n"
     ]
    },
    {
     "name": "stdout",
     "output_type": "stream",
     "text": [
      "Done with 17\n"
     ]
    },
    {
     "name": "stderr",
     "output_type": "stream",
     "text": [
      "/Genomics/pritykinlab/gabe/jupys/tregs/./code/hic_zscore_functions.py:148: RuntimeWarning: Mean of empty slice\n",
      "  m = np.nanmean(np.diag(balanced_mat, k=off_diag_k))\n"
     ]
    },
    {
     "name": "stdout",
     "output_type": "stream",
     "text": [
      "Done with 18\n"
     ]
    },
    {
     "name": "stderr",
     "output_type": "stream",
     "text": [
      "/Genomics/pritykinlab/gabe/jupys/tregs/./code/hic_zscore_functions.py:148: RuntimeWarning: Mean of empty slice\n",
      "  m = np.nanmean(np.diag(balanced_mat, k=off_diag_k))\n"
     ]
    },
    {
     "name": "stdout",
     "output_type": "stream",
     "text": [
      "Done with 19\n"
     ]
    },
    {
     "name": "stderr",
     "output_type": "stream",
     "text": [
      "/Genomics/pritykinlab/gabe/jupys/tregs/./code/hic_zscore_functions.py:148: RuntimeWarning: Mean of empty slice\n",
      "  m = np.nanmean(np.diag(balanced_mat, k=off_diag_k))\n"
     ]
    },
    {
     "name": "stdout",
     "output_type": "stream",
     "text": [
      "Done with 2\n"
     ]
    },
    {
     "name": "stderr",
     "output_type": "stream",
     "text": [
      "/Genomics/pritykinlab/gabe/jupys/tregs/./code/hic_zscore_functions.py:148: RuntimeWarning: Mean of empty slice\n",
      "  m = np.nanmean(np.diag(balanced_mat, k=off_diag_k))\n"
     ]
    },
    {
     "name": "stdout",
     "output_type": "stream",
     "text": [
      "Done with 3\n"
     ]
    },
    {
     "name": "stderr",
     "output_type": "stream",
     "text": [
      "/Genomics/pritykinlab/gabe/jupys/tregs/./code/hic_zscore_functions.py:148: RuntimeWarning: Mean of empty slice\n",
      "  m = np.nanmean(np.diag(balanced_mat, k=off_diag_k))\n"
     ]
    },
    {
     "name": "stdout",
     "output_type": "stream",
     "text": [
      "Done with 4\n"
     ]
    },
    {
     "name": "stderr",
     "output_type": "stream",
     "text": [
      "/Genomics/pritykinlab/gabe/jupys/tregs/./code/hic_zscore_functions.py:148: RuntimeWarning: Mean of empty slice\n",
      "  m = np.nanmean(np.diag(balanced_mat, k=off_diag_k))\n"
     ]
    },
    {
     "name": "stdout",
     "output_type": "stream",
     "text": [
      "Done with 5\n"
     ]
    },
    {
     "name": "stderr",
     "output_type": "stream",
     "text": [
      "/Genomics/pritykinlab/gabe/jupys/tregs/./code/hic_zscore_functions.py:148: RuntimeWarning: Mean of empty slice\n",
      "  m = np.nanmean(np.diag(balanced_mat, k=off_diag_k))\n"
     ]
    },
    {
     "name": "stdout",
     "output_type": "stream",
     "text": [
      "Done with 6\n"
     ]
    },
    {
     "name": "stderr",
     "output_type": "stream",
     "text": [
      "/Genomics/pritykinlab/gabe/jupys/tregs/./code/hic_zscore_functions.py:148: RuntimeWarning: Mean of empty slice\n",
      "  m = np.nanmean(np.diag(balanced_mat, k=off_diag_k))\n"
     ]
    },
    {
     "name": "stdout",
     "output_type": "stream",
     "text": [
      "Done with 7\n"
     ]
    },
    {
     "name": "stderr",
     "output_type": "stream",
     "text": [
      "/Genomics/pritykinlab/gabe/jupys/tregs/./code/hic_zscore_functions.py:148: RuntimeWarning: Mean of empty slice\n",
      "  m = np.nanmean(np.diag(balanced_mat, k=off_diag_k))\n"
     ]
    },
    {
     "name": "stdout",
     "output_type": "stream",
     "text": [
      "Done with 8\n"
     ]
    },
    {
     "name": "stderr",
     "output_type": "stream",
     "text": [
      "/Genomics/pritykinlab/gabe/jupys/tregs/./code/hic_zscore_functions.py:148: RuntimeWarning: Mean of empty slice\n",
      "  m = np.nanmean(np.diag(balanced_mat, k=off_diag_k))\n"
     ]
    },
    {
     "name": "stdout",
     "output_type": "stream",
     "text": [
      "Done with 9\n"
     ]
    },
    {
     "name": "stderr",
     "output_type": "stream",
     "text": [
      "/Genomics/pritykinlab/gabe/jupys/tregs/./code/hic_zscore_functions.py:148: RuntimeWarning: Mean of empty slice\n",
      "  m = np.nanmean(np.diag(balanced_mat, k=off_diag_k))\n"
     ]
    },
    {
     "name": "stdout",
     "output_type": "stream",
     "text": [
      "Done with X\n"
     ]
    }
   ],
   "source": [
    "%autoreload 2\n",
    "from hub_pileup import *\n",
    "from compute_differential_hic_hub import *\n",
    "from collections import defaultdict\n",
    "from make_figure4 import *\n",
    "import itertools\n",
    "import cooler\n",
    "\n",
    "\n",
    "cooldict = {\n",
    "    'Treg' : treg_50kb,\n",
    "}\n",
    "\n",
    "from collections import defaultdict\n",
    "from make_figure4 import *\n",
    "from hub_pileup import *\n",
    "import itertools\n",
    "\n",
    "padding_size = 30\n",
    "\n",
    "se_all_mat_dict, se_all_metadata = pileup_bins_with_hub(df, cooldict, \n",
    "                                                              chrom_to_start,\n",
    "                                                              None, \n",
    "                                                              None, \n",
    "                                                              padding_size=padding_size, \n",
    "                                                              fetch_oe=True,\n",
    "                                                              resolution_in = 250_000,\n",
    "                                                              resolution_out = 50_000,\n",
    "                                                              skip_metadomains = True,\n",
    "                                                              intra=True,\n",
    "                                                              inter=False)"
   ]
  },
  {
   "cell_type": "code",
   "execution_count": null,
   "id": "c23a4231-1854-4bf5-a5b7-daa850dbd510",
   "metadata": {},
   "outputs": [],
   "source": []
  },
  {
   "cell_type": "code",
   "execution_count": 13,
   "id": "8cebaeb5-3e94-4489-9962-dece0c72d08c",
   "metadata": {},
   "outputs": [],
   "source": [
    "chrom1 = [all_ind_to_region_50kb[x][0] for x in se_all_metadata['ind1']]\n",
    "chrom2 = [all_ind_to_region_50kb[x][0] for x in se_all_metadata['ind2']]\n",
    "\n",
    "se_all_metadata['chrom1'] = chrom1\n",
    "se_all_metadata['chrom2'] = chrom2"
   ]
  },
  {
   "cell_type": "code",
   "execution_count": 14,
   "id": "6545a0bd-d633-4070-bd89-0bb11ad59c69",
   "metadata": {},
   "outputs": [
    {
     "name": "stdout",
     "output_type": "stream",
     "text": [
      "746.0\n"
     ]
    }
   ],
   "source": [
    "# x = (se_all_metadata['ind1'] - [chrom_to_start_50kb[x] for x in se_all_metadata['chrom1']])//5\n",
    "# y = (se_all_metadata['ind2'] - [chrom_to_start_50kb[x] for x in se_all_metadata['chrom2']])//5\n",
    "\n",
    "x = se_all_metadata['ind1']\n",
    "y = se_all_metadata['ind2']\n",
    "has_se = inter_and_intra_connections_treg[x, y].astype(object)\n",
    "print(has_se.sum())\n",
    "# has_se = inter_and_intra_connections_treg[x:x+2, y:y+2].astype(object).any(axis=(1, 2))\n",
    "has_se[has_se > 0] = 'With Megaloop'\n",
    "has_se[has_se == 0] = 'Without Megaloop'\n",
    "\n",
    "se_all_metadata['cluster1'] = has_se.astype(str)\n",
    "se_all_metadata['cluster2'] = has_se.astype(str)\n",
    "\n",
    "\n",
    "se_all_metadata.loc[(se_all_metadata['ind1'] - se_all_metadata['ind2']).abs() < 8, 'cluster1'] = '<2Mb'\n",
    "se_all_metadata.loc[(se_all_metadata['ind1'] - se_all_metadata['ind2']).abs() < 8, 'cluster2'] = '<2Mb'"
   ]
  },
  {
   "cell_type": "markdown",
   "id": "8cab99be-76de-4707-9507-1d8b4930def2",
   "metadata": {},
   "source": [
    "### Figure 2I"
   ]
  },
  {
   "cell_type": "code",
   "execution_count": 247,
   "id": "6a8be685-b57d-40a2-a04c-46e01cd42e50",
   "metadata": {},
   "outputs": [
    {
     "name": "stderr",
     "output_type": "stream",
     "text": [
      "/Genomics/pritykinlab/gabe/jupys/tregs/./code/hub_pileup.py:280: UserWarning: FixedFormatter should only be used together with FixedLocator\n",
      "  a.set_yticklabels([-cutoff, \"Anchor1\", cutoff])\n",
      "/Genomics/pritykinlab/gabe/jupys/tregs/./code/hub_pileup.py:396: RuntimeWarning: Mean of empty slice\n",
      "  mat = np.nanmean(mats, axis=0)\n",
      "/Genomics/argo/users/gdolsten/.conda/envs/mamba/envs/new_3dgenome/lib/python3.10/site-packages/scipy/stats/_stats_py.py:9205: RuntimeWarning: invalid value encountered in scalar divide\n",
      "  z = (s - expected) / np.sqrt(n1*n2*(n1+n2+1)/12.0)\n",
      "/Genomics/pritykinlab/gabe/jupys/tregs/./code/compute_differential_hic_hub.py:134: RuntimeWarning: Mean of empty slice\n",
      "  delta = np.nanmean(v_middle.clip(cliplo, cliphigh)) - np.nanmean(v_outside.clip(cliplo, cliphigh))\n",
      "/Genomics/pritykinlab/gabe/jupys/tregs/./code/hub_pileup.py:317: UserWarning: FixedFormatter should only be used together with FixedLocator\n",
      "  a.set_yticklabels([-cutoff, \"Anchor1\", cutoff])\n"
     ]
    },
    {
     "data": {
      "image/png": "[encoded data removed]",
      "text/plain": [
       "<Figure size 157.48x157.48 with 4 Axes>"
      ]
     },
     "metadata": {
      "image/png": {
       "height": 285,
       "width": 610
      },
      "needs_background": "light"
     },
     "output_type": "display_data"
    },
    {
     "data": {
      "image/png": "[encoded data removed]",
      "text/plain": [
       "<Figure size 78.7402x78.7402 with 4 Axes>"
      ]
     },
     "metadata": {
      "image/png": {
       "height": 131,
       "width": 430
      },
      "needs_background": "light"
     },
     "output_type": "display_data"
    }
   ],
   "source": [
    "!mkdir -p plots/se_treg\n",
    "newline = '\\n'\n",
    "all_results_dicts = {}\n",
    "for key in se_all_mat_dict:\n",
    "    (fig_within_cluster, fig_between_cluster), results = plot_cluster_pileups_from_result(key, se_all_mat_dict, se_all_metadata,\n",
    "                                     se_all_metadata['cluster1'].unique(),\n",
    "                                     res = 25_000,\n",
    "                                     vmax =  5,\n",
    "                                     vmin = -.4,\n",
    "                                     columns_to_names = {'With Megaloop' : 'With Megaloop', \n",
    "                                                         'Without Megaloop': 'Without Megaloop',\n",
    "                                                         '<2Mb': '<2Mb',\n",
    "                                                        },\n",
    "                                     row_colors_dict = {'With Megaloop' : 'black', \n",
    "                                                        'Without Megaloop': 'black',\n",
    "                                                        '<2Mb': 'black',\n",
    "                                                       },\n",
    "                                    # show\n",
    "                                     # s1 = 38, s2 = -38,\n",
    "                                        s1 = 11, s2 = -11,\n",
    "                                     center = 3,\n",
    "                                                                                          # show_filts=True,\n",
    "                                                                                          center_method='None',\n",
    "                                                                                          fgsz=(40*mm, 40*mm),\n",
    "                                    )\n",
    "    fig_within_cluster.suptitle(f\"{key}\", y=4, x=1.7, ha='center')\n",
    "    all_results_dicts[key] = results\n",
    "    fig_within_cluster.savefig(f'./plots/se_treg/{key}_within_cluster.pdf', bbox_inches='tight')"
   ]
  },
  {
   "cell_type": "code",
   "execution_count": 16,
   "id": "f8a98476-1a32-45dc-bb04-bc3572b2d668",
   "metadata": {},
   "outputs": [],
   "source": [
    "from aux_functions import format_pval_as_asterisks\n",
    "\n",
    "def add_stat_annotation(ax, data, xcol, ycol, hue, order, hue_order, box_pairs):\n",
    "    \"\"\" Add statistical annotations for comparing hue within each x.\"\"\"\n",
    "    unique_x = data[xcol].unique()\n",
    "    hue_levels = data[hue].unique()\n",
    "    \n",
    "    # Prepare a mapping from hue and x to x-tick positions\n",
    "    hue_offsets = {hue: (i-1)*.15 for i, hue in enumerate(hue_order)}\n",
    "    x_positions = {v: k for k, v in enumerate(order)}\n",
    "\n",
    "    seen = set()\n",
    "    for pair in box_pairs:\n",
    "        if pair[0][0] not in seen:\n",
    "            seen.add(pair[0][0])\n",
    "            yoff = 0 \n",
    "        else:\n",
    "            yoff += .15\n",
    "        # Filter data for each pair\n",
    "\n",
    "        data1 = data[(data[xcol] == pair[0][0]) & (data[hue] == pair[0][1])].dropna()\n",
    "        data2 = data[(data[xcol] == pair[1][0]) & (data[hue] == pair[1][1])].dropna()\n",
    "        print(data1.shape, data2.shape, xcol)\n",
    "        # return data1[ycol], data2[ycol]\n",
    "        # Perform rank sum test\n",
    "        stat, p_value = scipy.stats.ranksums(data1[ycol], data2[ycol])\n",
    "    \n",
    "        # Find positions for annotations\n",
    "        x1 = x_positions[pair[0][0]] + hue_offsets[pair[0][1]]\n",
    "        x2 = x_positions[pair[1][0]] + hue_offsets[pair[1][1]]\n",
    "\n",
    "        ymax = .25\n",
    "        y, h, col = ymax + 0.02, 0.01, 'k'\n",
    "\n",
    "        y = y * (1 + yoff)\n",
    "        # Draw the lines and annotations\n",
    "        ax.plot([x1, x1, x2, x2], [y, y + h, y + h, y], lw=.2, c=col)\n",
    "        ax.text((x1 + x2) * .5, y + h, f'{format_pval_as_asterisks(p_value)}', ha='center', va='bottom', color=col,\n",
    "               fontsize=4)"
   ]
  },
  {
   "cell_type": "code",
   "execution_count": 17,
   "id": "9dcf811f-4e8d-46be-976c-20cdb9bea2e0",
   "metadata": {},
   "outputs": [
    {
     "name": "stderr",
     "output_type": "stream",
     "text": [
      "/Genomics/argo/users/gdolsten/.conda/envs/mamba/envs/new_3dgenome/lib/python3.10/site-packages/seaborn/_oldcore.py:1498: FutureWarning: is_categorical_dtype is deprecated and will be removed in a future version. Use isinstance(dtype, CategoricalDtype) instead\n",
      "  if pd.api.types.is_categorical_dtype(vector):\n",
      "/Genomics/argo/users/gdolsten/.conda/envs/mamba/envs/new_3dgenome/lib/python3.10/site-packages/seaborn/_oldcore.py:1498: FutureWarning: is_categorical_dtype is deprecated and will be removed in a future version. Use isinstance(dtype, CategoricalDtype) instead\n",
      "  if pd.api.types.is_categorical_dtype(vector):\n",
      "/Genomics/argo/users/gdolsten/.conda/envs/mamba/envs/new_3dgenome/lib/python3.10/site-packages/seaborn/_oldcore.py:1498: FutureWarning: is_categorical_dtype is deprecated and will be removed in a future version. Use isinstance(dtype, CategoricalDtype) instead\n",
      "  if pd.api.types.is_categorical_dtype(vector):\n"
     ]
    },
    {
     "name": "stdout",
     "output_type": "stream",
     "text": [
      "Comparison of With Megaloop and Without Megaloop\n",
      "p-value: 1.2150810283975791e-102\n",
      "stat: 21.511501117952747\n"
     ]
    },
    {
     "data": {
      "image/png": "[encoded data removed]",
      "text/plain": [
       "<Figure size 118.11x314.961 with 1 Axes>"
      ]
     },
     "metadata": {
      "image/png": {
       "height": 471,
       "width": 286
      },
      "needs_background": "light"
     },
     "output_type": "display_data"
    }
   ],
   "source": [
    "%autoreload 2\n",
    "from plot_pvals import add_stat_annotation_boxplot_no_hue\n",
    "from itertools import combinations\n",
    "\n",
    "all_datas = []\n",
    "for u in ['With Megaloop', 'Without Megaloop']:\n",
    "    idx = (se_all_metadata['cluster1']==u) & (se_all_metadata['cluster2']==u)\n",
    "    data = pd.DataFrame()\n",
    "    for key in se_all_mat_dict:\n",
    "        difference = all_results_dicts[key][u]['v_middle']\n",
    "        data[key] = difference\n",
    "    data['cluster'] = u\n",
    "    all_datas.append(data)\n",
    "\n",
    "data = pd.concat(all_datas, axis=0)\n",
    "data = data.melt('cluster')\n",
    "\n",
    "order = ['Treg']\n",
    "hue_order = ['With Megaloop', 'Without Megaloop']\n",
    "pairs = [((x, h1), (x, h2)) for x in order for h1, h2 in combinations(hue_order, 2)]\n",
    "\n",
    "fig, axs = init_subplots_exact(1, 1, fgsz=(15*mm, 40*mm), dpi = 200)\n",
    "sns.boxplot(data=data, x='cluster', y='value', fliersize=0,\n",
    "           hue_order = hue_order,\n",
    "           palette=['violet', 'lightgray', ]\n",
    "           )\n",
    "plt.ylim([-.95, 2.5])\n",
    "plt.gca().set_axisbelow(True)\n",
    "# add_stat_annotation(plt.gca(), data, 'variable', 'value', 'cluster', order, hue_order, pairs)\n",
    "add_stat_annotation_boxplot_no_hue(plt.gca(), data, 'cluster', 'value', hue_order, [hue_order], ymax=1.85, delta = .15, h = 0.1,\n",
    "                                  log=True)\n",
    "\n",
    "plt.xlabel(\"\")\n",
    "plt.ylabel(\"O/E, center\")\n",
    "plt.title(\"O/E\")\n",
    "plt.xticks(rotation=20)\n",
    "fig.savefig('./plots/se_treg/quantification.pdf', bbox_inches = 'tight')"
   ]
  }
 ],
 "metadata": {
  "kernelspec": {
   "display_name": "Python 3 (ipykernel)",
   "language": "python",
   "name": "python3"
  },
  "language_info": {
   "codemirror_mode": {
    "name": "ipython",
    "version": 3
   },
   "file_extension": ".py",
   "mimetype": "text/x-python",
   "name": "python",
   "nbconvert_exporter": "python",
   "pygments_lexer": "ipython3",
   "version": "3.10.12"
  }
 },
 "nbformat": 4,
 "nbformat_minor": 5
}
