{
 "cells": [
  {
   "cell_type": "code",
   "execution_count": 2,
   "id": "14f5014e-f8d1-43eb-b2c7-49734a5a15c4",
   "metadata": {},
   "outputs": [],
   "source": [
    "import sys\n",
    "sys.path.append('./code')\n",
    "from importlib import reload"
   ]
  },
  {
   "cell_type": "code",
   "execution_count": 3,
   "id": "9de5a1f5-bff4-4ae5-b073-f01e789a17ac",
   "metadata": {},
   "outputs": [],
   "source": [
    "from config import row_colors, columns_to_names, row_colors_dict"
   ]
  },
  {
   "cell_type": "code",
   "execution_count": 4,
   "id": "752f48e6-d1d4-4c67-8d3c-a1a677e4a837",
   "metadata": {},
   "outputs": [
    {
     "name": "stdout",
     "output_type": "stream",
     "text": [
      "1\n",
      "1\n"
     ]
    }
   ],
   "source": [
    "import make_figure4\n",
    "reload(make_figure4)\n",
    "from make_figure4 import *\n",
    "import pickle\n",
    "\n",
    "goodinds = pickle.load(open('./for_snipping/goodinds', 'rb'))\n",
    "merged_clustdict = pickle.load(open('./for_snipping/merged_clustdict', 'rb'))\n",
    "merged_inds_to_subset = pickle.load(open('./for_snipping/merged_inds_to_subset', 'rb'))\n",
    "\n",
    "\n",
    "cooldict_50kb = pickle.load(open('./for_snipping/cooldict_50kb', 'rb'))\n",
    "ind_to_gene = pickle.load(open('./for_snipping/ind_to_gene', 'rb'))\n",
    "all_ind_to_region = pickle.load(open('./for_snipping/all_ind_to_region', 'rb'))\n",
    "\n",
    "my_treg_comp = pickle.load(open('./for_snipping/my_treg_comp', 'rb'))"
   ]
  },
  {
   "cell_type": "code",
   "execution_count": 5,
   "id": "9a6ef25c-68d3-4f5f-acc4-5853a3275251",
   "metadata": {},
   "outputs": [],
   "source": [
    "%load_ext autoreload\n",
    "%autoreload\n",
    "import scanpy as sc\n",
    "\n",
    "sc.settings.set_figure_params(dpi=80, color_map='coolwarm', frameon=True)\n",
    "plt.rcParams.update({'font.size': 12})\n",
    "plt.rcParams.update({\"axes.grid.axis\" : 'both'})\n",
    "plt.rcParams.update({\"axes.grid\" : True})\n",
    "\n",
    "plt.rcParams.update({\n",
    "    'axes.labelsize': 14,       # x and y labels' font size\n",
    "    'xtick.labelsize': 8,      # x tick labels' font size\n",
    "    'ytick.labelsize': 8,      # y tick labels' font size\n",
    "    'axes.titlesize': 14,        # Axes title font size\n",
    "    'patch.linewidth' : .35,\n",
    "    'lines.linewidth' : .5,\n",
    "    'legend.fontsize': 6,      # Legend font size\n",
    "})\n",
    "plt.rcParams['pdf.fonttype'] = 42\n",
    "\n",
    "plt.rcParams.update({\n",
    "    'axes.labelsize': 8,       # x and y labels' font size\n",
    "    'xtick.labelsize': 6,      # x tick labels' font size\n",
    "    'ytick.labelsize': 6,      # y tick labels' font size\n",
    "    'axes.titlesize': 10,        # Axes title font size\n",
    "    'patch.linewidth' : .35,\n",
    "    'lines.linewidth' : .5,\n",
    "    'xtick.major.pad' : 2,\n",
    "    'ytick.major.pad' : 2,\n",
    "\n",
    "})\n",
    "plt.rcParams['axes.linewidth'] = .25\n",
    "plt.rcParams['xtick.major.width'] = .25\n",
    "plt.rcParams['ytick.major.width'] = .25\n",
    "plt.rcParams['ytick.major.size'] = 2\n",
    "plt.rcParams['xtick.major.size'] = 2\n",
    "plt.rcParams['grid.linewidth'] = .25\n",
    "\n",
    "plt.rcParams['axes.facecolor'] = 'none' # Or any suitable colour...\n",
    "plt.rcParams['figure.facecolor'] = 'none'\n",
    "plt.rcParams['axes.facecolor'] = 'white'\n",
    "plt.rcParams['savefig.facecolor'] = 'none'"
   ]
  },
  {
   "cell_type": "code",
   "execution_count": null,
   "id": "7066c6a7-f665-4335-95f8-cf7333320457",
   "metadata": {},
   "outputs": [],
   "source": []
  },
  {
   "cell_type": "code",
   "execution_count": 6,
   "id": "444221d3-b243-40c3-8ee7-d1104798c2c0",
   "metadata": {},
   "outputs": [
    {
     "name": "stdout",
     "output_type": "stream",
     "text": [
      "The autoreload extension is already loaded. To reload it, use:\n",
      "  %reload_ext autoreload\n",
      "HI\n"
     ]
    }
   ],
   "source": [
    "%load_ext autoreload\n",
    "%autoreload 2\n",
    "from hub_pileup import *\n",
    "from compute_differential_hic_hub import *\n",
    "from collections import defaultdict\n",
    "from make_figure4 import *\n",
    "import itertools\n",
    "import cooler\n",
    "\n",
    "our_treg_250kb = cooler.Cooler('/Genomics/argo/users/gdolsten/pritlab/mega_tcell_dataset/zoomified_merged_cools/Rename_Treg_all_no_chrM.mcool::/resolutions/250000')\n",
    "\n",
    "our_treg_25kb = cooler.Cooler('/Genomics/argo/users/gdolsten/pritlab/mega_tcell_dataset/zoomified_merged_cools/Rename_Treg_all_no_chrM.mcool::/resolutions/25000')\n",
    "our_tcon_25kb = cooler.Cooler('/Genomics/argo/users/gdolsten/pritlab/mega_tcell_dataset/zoomified_merged_cools/Rename_Tconv_all_no_chrM.mcool::/resolutions/25000')\n",
    "\n"
   ]
  },
  {
   "cell_type": "code",
   "execution_count": 7,
   "id": "cbeac58d-c3d6-4f55-9322-99102fd4926b",
   "metadata": {},
   "outputs": [],
   "source": [
    "from initialize import *\n",
    "import cooler \n",
    "\n",
    "treg_250kb = cooler.Cooler('./Treg_all.mcool::/resolutions/250000')\n",
    "\n",
    "(chromsizes, parsed_chroms, region_to_inds, \n",
    "    all_region_to_ind, inds_to_region, all_ind_to_region, \n",
    "    chrom_to_start, chrom_to_end) = initialize_helper_vars(treg_250kb)\n"
   ]
  },
  {
   "cell_type": "code",
   "execution_count": 8,
   "id": "dc92fbaa-1d2c-46af-983a-249b6c903f7a",
   "metadata": {},
   "outputs": [],
   "source": []
  },
  {
   "cell_type": "code",
   "execution_count": 9,
   "id": "754c53b5-43da-4006-b57d-41ad13c5f515",
   "metadata": {},
   "outputs": [],
   "source": []
  },
  {
   "cell_type": "code",
   "execution_count": 10,
   "id": "268b23f3-2070-4864-af86-6eca702d320b",
   "metadata": {},
   "outputs": [],
   "source": [
    "inter_and_intra_connections_treg = pickle.load(open('./for_snipping/inter_and_intra_connections_treg', 'rb'))\n",
    "inter_and_intra_connections_tcon = pickle.load(open('./for_snipping/inter_and_intra_connections_tcon', 'rb'))"
   ]
  },
  {
   "cell_type": "code",
   "execution_count": 17,
   "id": "64123cbb-7bed-429f-be31-3eae536973d5",
   "metadata": {},
   "outputs": [],
   "source": [
    "PARSED_CHROMS_chr = {'chr' + x : y for x, y in chrom_to_start.items()}\n",
    "PARSED_CHROMS = {x : y for x, y in chrom_to_start.items()}"
   ]
  },
  {
   "cell_type": "code",
   "execution_count": 1,
   "id": "b96ddb9c-bea0-49d4-b53c-246d2dcc5b90",
   "metadata": {
    "scrolled": true
   },
   "outputs": [],
   "source": [
    "%autoreload 2\n",
    "from hub_pileup import pileup_bin_pairs\n",
    "\n",
    "padding_size = 50\n",
    "metadomain_pileup_cooldict = {\n",
    "    'Our_Treg' : our_treg_25kb,\n",
    "    'Our_Tcon' : our_tcon_25kb,\n",
    "}\n",
    "\n",
    "rows_cluster0 = []\n",
    "for chrom in PARSED_CHROMS:\n",
    "    s, e = chrom_to_start[chrom], chrom_to_end[chrom]\n",
    "    df = pd.DataFrame()\n",
    "    df['ind'] = np.arange(len(all_ind_to_region))\n",
    "    df['chrom'] = ['chr' + all_ind_to_region[x][0] for x in range(len(all_ind_to_region))]\n",
    "    df['cluster'] = -1\n",
    "    df.loc[goodinds, 'cluster'] = merged_clustdict['all']\n",
    "    df = df.iloc[s:e]\n",
    "    \n",
    "    df2 = pd.DataFrame()\n",
    "    df2['ind'] = goodinds\n",
    "    df2['chrom'] = ['chr' + all_ind_to_region[x][0] for x in goodinds]\n",
    "    df2['cluster'] = merged_clustdict['all']\n",
    "    df2 = df2[df2['cluster'].isin([0])]\n",
    "    \n",
    "    all_mat_dict, all_metadata = pileup_bin_pairs(df, df2, metadomain_pileup_cooldict, \n",
    "                                                                  PARSED_CHROMS_chr, \n",
    "                                                                  inter_and_intra_connections_treg, \n",
    "                                                                  inter_and_intra_connections_tcon, \n",
    "                                                                  padding_size=padding_size, \n",
    "                                                                  fetch_oe=True,\n",
    "                                                                  resolution_out = 25_000\n",
    "                        )\n",
    "        \n",
    "    for u in all_metadata['ind1'].unique():\n",
    "        idx = (all_metadata['ind1'] == u) & (all_metadata['cluster2'] == 0)\n",
    "        submat = all_mat_dict['Our_Treg'][idx]\n",
    "        inside_filt, outside_filt = make_sideways_filt(submat.shape[1]//2, 5, delta=20)\n",
    "        inside_filt = np.roll(inside_filt, 5, axis=1)\n",
    "        inside_filt = np.roll(inside_filt, 5, axis=0)\n",
    "        outside_filt = np.roll(outside_filt, 5, axis=1)\n",
    "        outside_filt = np.roll(outside_filt, 5, axis=0)\n",
    "        v_middle, v_outside = get_inside_outside(submat, inside_filt, outside_filt)\n",
    "        stat, p, delta, _, _ = test_inside_outside_baseline(v_middle, v_outside, cliplo=-1, cliphigh=10)\n",
    "        rows_cluster0.append([u, stat, p, delta,])\n"
   ]
  },
  {
   "cell_type": "code",
   "execution_count": 5,
   "id": "b4c0d77c-76a7-47f9-9e1f-c1ee9b5413d1",
   "metadata": {
    "scrolled": true
   },
   "outputs": [],
   "source": [
    "%autoreload 2\n",
    "from hub_pileup import pileup_bin_pairs\n",
    "\n",
    "padding_size = 50\n",
    "metadomain_pileup_cooldict = {\n",
    "    'Our_Treg' : our_treg_25kb,\n",
    "    'Our_Tcon' : our_tcon_25kb,\n",
    "}\n",
    "\n",
    "rows_cluster1 = []\n",
    "for chrom in PARSED_CHROMS:\n",
    "    s, e = chrom_to_start[chrom], chrom_to_end[chrom]\n",
    "    df = pd.DataFrame()\n",
    "    df['ind'] = np.arange(len(all_ind_to_region))\n",
    "    df['chrom'] = ['chr' + all_ind_to_region[x][0] for x in range(len(all_ind_to_region))]\n",
    "    df['cluster'] = -1\n",
    "    df.loc[goodinds, 'cluster'] = merged_clustdict['all']\n",
    "    df = df.iloc[s:e]\n",
    "    \n",
    "    df2 = pd.DataFrame()\n",
    "    df2['ind'] = goodinds\n",
    "    df2['chrom'] = ['chr' + all_ind_to_region[x][0] for x in goodinds]\n",
    "    df2['cluster'] = merged_clustdict['all']\n",
    "    df2 = df2[df2['cluster'].isin([4])]\n",
    "    \n",
    "    all_mat_dict, all_metadata = pileup_bin_pairs(df, df2, metadomain_pileup_cooldict, \n",
    "                                                                  PARSED_CHROMS_chr, \n",
    "                                                                  inter_and_intra_connections_treg, \n",
    "                                                                  inter_and_intra_connections_tcon, \n",
    "                                                                  padding_size=padding_size, \n",
    "                                                                  fetch_oe=True,\n",
    "                                                                  resolution_out = 25_000\n",
    "                        )\n",
    "        \n",
    "\n",
    "    \n",
    "    for u in all_metadata['ind1'].unique():\n",
    "        idx = (all_metadata['ind1'] == u) & (all_metadata['cluster2'] == 4)\n",
    "        submat = all_mat_dict['Our_Treg'][idx]\n",
    "        inside_filt, outside_filt = make_sideways_filt(submat.shape[1]//2, 5, delta=20)\n",
    "        inside_filt = np.roll(inside_filt, 5, axis=1)\n",
    "        inside_filt = np.roll(inside_filt, 5, axis=0)\n",
    "        outside_filt = np.roll(outside_filt, 5, axis=1)\n",
    "        outside_filt = np.roll(outside_filt, 5, axis=0)\n",
    "        v_middle, v_outside = get_inside_outside(submat, inside_filt, outside_filt)\n",
    "        stat, p, delta, _, _ = test_inside_outside_baseline(v_middle, v_outside, cliplo=-1, cliphigh=10)\n",
    "        rows_cluster1.append([u, stat, p, delta,])\n"
   ]
  },
  {
   "cell_type": "code",
   "execution_count": 232,
   "id": "ced166ec-86e2-4daf-b08e-89c837d161b7",
   "metadata": {},
   "outputs": [],
   "source": [
    "data0 = pd.DataFrame(rows_cluster0, columns = ['ind', 'stat', 'p', 'delta']).set_index('ind')\n",
    "data1 = pd.DataFrame(rows_cluster1, columns = ['ind', 'stat', 'p', 'delta']).set_index('ind')\n",
    "\n",
    "df = pd.DataFrame()\n",
    "df['ind'] = np.arange(len(all_ind_to_region))\n",
    "df['chrom'] = ['chr' + all_ind_to_region[x][0] for x in range(len(all_ind_to_region))]\n",
    "df['cluster'] = -1\n",
    "df.loc[goodinds, 'cluster'] = merged_clustdict['all']"
   ]
  },
  {
   "cell_type": "code",
   "execution_count": null,
   "id": "6ee384cf-f938-4205-ad17-f45a096152f9",
   "metadata": {},
   "outputs": [],
   "source": []
  },
  {
   "cell_type": "code",
   "execution_count": 281,
   "id": "0deaea1f-7ca2-427a-9174-f95bff7012eb",
   "metadata": {},
   "outputs": [
    {
     "data": {
      "image/png": "[encoded data removed]",
      "text/plain": [
       "<Figure size 314.961x314.961 with 1 Axes>"
      ]
     },
     "metadata": {
      "image/png": {
       "height": 354,
       "width": 354
      }
     },
     "output_type": "display_data"
    }
   ],
   "source": [
    "co = .03\n",
    "idx0 = (df['cluster']==0) \n",
    "idx4 = (df['cluster']==4)\n",
    "recover0 = ((data0['delta'] > co) & (data0['p'] < 1e-20))\n",
    "recover4 = ((data1['delta'] > co) & (data1['p'] < 1e-20))\n",
    "\n",
    "count_idx0 = SE_count[idx0].sum()\n",
    "count_idx4 = SE_count[idx4].sum()\n",
    "count_recover0 = SE_count[(recover0 | recover4) & (~(idx0 | idx4)) ].sum()\n",
    "# count_recover4 = SE_count[(recover4 | recover0) & (~(idx0 | idx4 | recover0))].sum()\n",
    "count_others = SE_count[~(idx0 | idx4 | recover0 | recover4)].sum()\n",
    "\n",
    "fig, axs = init_subplots_exact(1, 1, fgsz=(40*mm, 40*mm), dpi = 200)\n",
    "plt.pie([count_idx0, count_idx4, count_recover0, count_others],\n",
    "       colors=['lightgreen', 'green', 'purple', 'white'], autopct='%1.0f%%', \n",
    "       wedgeprops={\"edgecolor\":\"k\", 'linewidth': .5, }\n",
    "       )\n",
    "fig.savefig('./plots/paper/fig4/pie.pdf')"
   ]
  }
 ],
 "metadata": {
  "kernelspec": {
   "display_name": "Python 3 (ipykernel)",
   "language": "python",
   "name": "python3"
  },
  "language_info": {
   "codemirror_mode": {
    "name": "ipython",
    "version": 3
   },
   "file_extension": ".py",
   "mimetype": "text/x-python",
   "name": "python",
   "nbconvert_exporter": "python",
   "pygments_lexer": "ipython3",
   "version": "3.10.12"
  }
 },
 "nbformat": 4,
 "nbformat_minor": 5
}
