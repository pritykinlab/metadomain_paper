{
 "cells": [
  {
   "cell_type": "code",
   "execution_count": 1,
   "id": "f7e022cc",
   "metadata": {},
   "outputs": [],
   "source": [
    "import os\n",
    "import glob\n",
    "import pandas as pd\n",
    "import seaborn as sns\n",
    "import matplotlib.pyplot as plt\n",
    "import numpy as np\n",
    "plt.rcParams['svg.fonttype'] = 'none'\n",
    "\n",
    "arr = np.asarray\n",
    "import scanpy as sc\n",
    "sc.settings.set_figure_params(dpi=80, color_map='coolwarm', frameon=True)\n",
    "plt.rcParams.update({'font.size': 12})\n",
    "plt.rcParams.update({\"axes.grid.axis\" : 'both'})\n",
    "plt.rcParams.update({\"axes.grid\" : True})"
   ]
  },
  {
   "cell_type": "code",
   "execution_count": 2,
   "id": "634460a9",
   "metadata": {},
   "outputs": [],
   "source": [
    "import sys\n",
    "import glob\n",
    "sys.path.append(\"./code/\")\n",
    "from hic_zscore_functions import *\n",
    "import initialize\n",
    "# reload(initialize)\n",
    "from initialize import *\n",
    "from aux_functions import *\n",
    "\n",
    "treg_250kb = cooler.Cooler('./Treg_all.mcool::/resolutions/250000')\n",
    "treg_50kb = cooler.Cooler('./Treg_all.mcool::/resolutions/50000')\n",
    "tcon_250kb = cooler.Cooler('./Tconv_all.mcool::/resolutions/250000')\n",
    "tcon_50kb = cooler.Cooler('./Tconv_all.mcool::/resolutions/50000')\n",
    "\n",
    "(chromsizes, parsed_chroms, region_to_inds, \n",
    "    all_region_to_ind, inds_to_region, all_ind_to_region, \n",
    "    chrom_to_start, chrom_to_end) = initialize_helper_vars(treg_250kb)\n",
    "\n",
    "import pickle\n",
    "gene_to_ind = pickle.load(open('gene_to_ind.p', 'rb'))"
   ]
  },
  {
   "cell_type": "code",
   "execution_count": 3,
   "id": "27ae7e43-bdd4-4221-823a-423875f5f482",
   "metadata": {},
   "outputs": [],
   "source": [
    "%load_ext autoreload\n",
    "%autoreload\n",
    "import scanpy as sc\n",
    "\n",
    "sc.settings.set_figure_params(dpi=80, color_map='coolwarm', frameon=True)\n",
    "plt.rcParams.update({'font.size': 12})\n",
    "plt.rcParams.update({\"axes.grid.axis\" : 'both'})\n",
    "plt.rcParams.update({\"axes.grid\" : True})\n",
    "\n",
    "plt.rcParams.update({\n",
    "    'axes.labelsize': 14,       # x and y labels' font size\n",
    "    'xtick.labelsize': 8,      # x tick labels' font size\n",
    "    'ytick.labelsize': 8,      # y tick labels' font size\n",
    "    'axes.titlesize': 14,        # Axes title font size\n",
    "    'patch.linewidth' : .35,\n",
    "    'lines.linewidth' : .5,\n",
    "    'legend.fontsize': 6,      # Legend font size\n",
    "})\n",
    "plt.rcParams['pdf.fonttype'] = 42\n",
    "\n",
    "plt.rcParams.update({\n",
    "    'axes.labelsize': 8,       # x and y labels' font size\n",
    "    'xtick.labelsize': 6,      # x tick labels' font size\n",
    "    'ytick.labelsize': 6,      # y tick labels' font size\n",
    "    'axes.titlesize': 10,        # Axes title font size\n",
    "    'patch.linewidth' : .35,\n",
    "    'lines.linewidth' : .5,\n",
    "    'xtick.major.pad' : 2,\n",
    "    'ytick.major.pad' : 2,\n",
    "\n",
    "})\n",
    "plt.rcParams['axes.linewidth'] = .25\n",
    "plt.rcParams['xtick.major.width'] = .25\n",
    "plt.rcParams['ytick.major.width'] = .25\n",
    "plt.rcParams['ytick.major.size'] = 2\n",
    "plt.rcParams['xtick.major.size'] = 2\n",
    "plt.rcParams['grid.linewidth'] = .25\n",
    "\n",
    "plt.rcParams['axes.facecolor'] = 'none' # Or any suitable colour...\n",
    "plt.rcParams['figure.facecolor'] = 'none'\n",
    "plt.rcParams['axes.facecolor'] = 'white'\n",
    "plt.rcParams['savefig.facecolor'] = 'none'\n",
    "\n",
    "plt.rcParams['axes.facecolor'] = 'none' # Or any suitable colour...\n",
    "plt.rcParams['figure.facecolor'] = 'none'\n",
    "plt.rcParams['axes.facecolor'] = 'white'\n",
    "plt.rcParams['savefig.facecolor'] = 'none'"
   ]
  },
  {
   "cell_type": "code",
   "execution_count": 4,
   "id": "dd5b030d",
   "metadata": {},
   "outputs": [],
   "source": [
    "CHROMS_TO_USE = ['1', '10', '11', '12', '13', '14', '15', '16', '17', '18', '19', '2', '3', '4', '5', '6', '7', '8', '9', 'X']"
   ]
  },
  {
   "cell_type": "code",
   "execution_count": 5,
   "id": "9958da1a",
   "metadata": {},
   "outputs": [],
   "source": [
    "from matplotlib import transforms\n",
    "def get_off_diag_mat_by_ind(cool, ind1, ind2, d, balance=False):\n",
    "    chrom1, s1, _ = all_ind_to_region[ind1-d]\n",
    "    chrom1, _, e1 = all_ind_to_region[ind1+d]\n",
    "    \n",
    "    chrom2, s2, _ = all_ind_to_region[ind2-d]\n",
    "    chrom2, _, e2 = all_ind_to_region[ind2+d]\n",
    "    if 'chr' in cool.chromnames[0]:\n",
    "        m = cool.matrix(balance=balance).fetch(('chr' + chrom1, s1, e1), ('chr' + chrom2, s2, e2))\n",
    "    else:\n",
    "        m = cool.matrix(balance=balance).fetch((chrom1, s1, e1), (chrom2, s2, e2))\n",
    "    return m\n",
    "\n",
    "\n",
    "def get_off_diag_mat_by_places(cool, place1, place2, balance=False):\n",
    "    chrom1, s1, e1 = place1\n",
    "    chrom2, s2, e2 = place2\n",
    "    if 'chr' in cool.chromnames[0]:\n",
    "        m = cool.matrix(balance=balance).fetch(('chr' + chrom1, s1, e1), ('chr' + chrom2, s2, e2))\n",
    "    else:\n",
    "        m = cool.matrix(balance=balance).fetch((chrom1, s1, e1), (chrom2, s2, e2))\n",
    "    return m"
   ]
  },
  {
   "cell_type": "code",
   "execution_count": 6,
   "id": "0636ca9b",
   "metadata": {},
   "outputs": [],
   "source": [
    "def get_tcon_mat(place1, place2, resolution=5000, balance=False, filesoi=None):\n",
    "    cool = cooler.Cooler(f'./Tconv_all.mcool::/resolutions/{resolution}')\n",
    "    try:\n",
    "        mat = get_off_diag_mat_by_places(cool, place1, place2, balance=balance)\n",
    "    except Exception as e:\n",
    "        print(e)\n",
    "    m = mat.astype(float)\n",
    "    return m, place1, place2\n",
    "\n",
    "\n",
    "def get_treg_mat(place1, place2, resolution=5000, balance=False, filesoi=None):\n",
    "    cool = cooler.Cooler(f'./Treg_all.mcool::/resolutions/{resolution}')\n",
    "    try:\n",
    "        mat = get_off_diag_mat_by_places(cool, place1, place2, balance=balance)\n",
    "    except Exception as e:\n",
    "        print(e)\n",
    "    m = mat.astype(float)\n",
    "    return m, place1, place2\n",
    "\n",
    "def get_non_treg_mat(place1, place2, filesoi, d=1, resolution=5000, **kwargs):\n",
    "    ms = []\n",
    "    files = []\n",
    "    filesoi = cormat[(cormat.loc['./Treg_all.mcool'] > .8)].index\n",
    "    for file in filesoi:\n",
    "        try:\n",
    "            cool = cooler.Cooler(f'{file}::/resolutions/{resolution}')\n",
    "            mat = get_off_diag_mat_by_places(cool, place1, place2, balance=False)\n",
    "        except Exception as e:\n",
    "            print(e)\n",
    "        ms.append(mat)\n",
    "        files.append(file)\n",
    "    ms = arr(ms)\n",
    "    collapsemat = np.nansum(ms, axis=0).astype(float)\n",
    "    m = collapsemat\n",
    "    return m, place1, place2"
   ]
  },
  {
   "cell_type": "markdown",
   "id": "8fcb153a",
   "metadata": {},
   "source": [
    "### Check correlations; Make final mega dataset"
   ]
  },
  {
   "cell_type": "code",
   "execution_count": 7,
   "id": "306a51b2",
   "metadata": {},
   "outputs": [],
   "source": [
    "from skimage.feature import peak_local_max\n",
    "from get_focal_contacts import *\n"
   ]
  },
  {
   "cell_type": "code",
   "execution_count": 8,
   "id": "1196e9a0",
   "metadata": {},
   "outputs": [],
   "source": [
    "import math\n",
    "\n",
    "def plot_inds(mat, i1, i2, d, ax=None, trans_func = lambda x: x, **kwargs):\n",
    "    sl1 = slice(i1-d, i1+d+1)\n",
    "    sl2 = slice(i2-d, i2+d+1)\n",
    "    submat = trans_func(mat[sl1, sl2])\n",
    "    if ax is None:\n",
    "        fig, ax = plt.subplots()\n",
    "    ax.matshow(submat, **kwargs)\n",
    "    return submat.copy()"
   ]
  },
  {
   "cell_type": "code",
   "execution_count": 9,
   "id": "260e16d5",
   "metadata": {},
   "outputs": [
    {
     "name": "stdout",
     "output_type": "stream",
     "text": [
      "1\n"
     ]
    }
   ],
   "source": [
    "from get_focal_contacts_with_peak_prominence_refine import *\n",
    "def make_s29_b():\n",
    "    ### Ctla4 <-> Stk17b\n",
    "    inds = [[215, 243]]\n",
    "    chrom = all_ind_to_region[inds[0][0]][0]\n",
    "    for i1, i2 in inds:\n",
    "        s = (i1 - chrom_to_start[chrom])*250_000+35_000\n",
    "        e = (i2 - chrom_to_start[chrom])*250_000+45_000\n",
    "        grange1, grange2 = (chrom, s, s+5_000), (chrom, e, e+5_000)\n",
    "        fig, axs, _ = make_simple_plot_grange_collapsing(grange1, grange2, extend_by=160_000, \n",
    "                                                 logp_co = 15,\n",
    "                                          ignore_set = {'Chd4', 'Lag3', 'Lpar5', 'Gnb3', '4930557K07Rik', 'Cops7a', \n",
    "                                                        'Cdca3', 'Mlf2', 'Usp5', 'Lrrc23', 'Lpcat3', 'Gm45234', 'Pianp', \n",
    "                                                        '2010008C14Rik', 'A230083G16Rik', 'Cd4', 'Ptpn6', 'Tpi1', 'P3h3', 'Phb2', \n",
    "                                                        'Gm29008', 'Gpr162', 'Eno2', 'Zfp384', 'Emg1', 'Ing4', 'Gm15884', 'Gm23547', 'Gm23851', \n",
    "                                                        'Grcc10', 'Spsb2', 'Atn1', 'Gm23751', 'Ptms', 'Acrbp', 'Gm20531',  'Gm44597', \n",
    "                                                        '4930402H05Rik', 'Gm44278', 'Iqsec1', 'Gm44002', 'Gm14573',\n",
    "                                                       'Park7', 'Errfi1', 'Camta1', 'Gm23405',\n",
    "                                                        'Mmp7', 'Mmp20', 'Yap1', 'Birc3', 'AV064505', 'Gm20416', 'Gm47214', # 'Panx1', # '1700012B09Rik', # 'Hephl1', 'Gm16302', 'Mre11a', # 'Ankrd49',\n",
    "                                                    'Gm23762', 'Gm38388', '2310016D23Rik', 'Gm38137', 'Gm11579', 'Gm37198',\n",
    "                                                        'Gm37863', 'Dnah7a', 'Gm24251',\n",
    "    \n",
    "                                                       })\n",
    "        axs[1].set_ylim([-.5, 2.5])\n",
    "        plt.gcf().savefig(\"./plots/paper/s28/ctla4.pdf\", bbox_inches='tight')    \n",
    "    \n",
    "\n",
    "    ### Ikzf2 <-> Idh1\n",
    "    \n",
    "    chrom = '1'\n",
    "    inds = [[260, 278]]\n",
    "    for i1, i2 in inds:\n",
    "        s = i1*250_000+155_000\n",
    "        e = i2*250_000+155_000\n",
    "        grange1, grange2 = (chrom, s, s+50_000), (chrom, e, e+50_000)\n",
    "        grange1 = extend_l(grange1, 100_000)\n",
    "        grange2 = extend_l(grange2, 100_000)\n",
    "    \n",
    "        make_simple_plot_grange_collapsing(grange1, grange2, extend_by=0, logp_co = 15,\n",
    "                                          ignore_set={'Gm37930', 'Spag16', 'Gm28112', 'Gm29112', 'Crygc', 'Crygb', 'Crygd', 'Gm28845', 'Pth2r', 'D630023F18Rik', 'Cryga'})\n",
    "        plt.gcf().savefig(\"./plots/paper/s28/ikzf2_idh1.pdf\", bbox_inches='tight')\n",
    "\n",
    "\n",
    "    ### Socs2 <-> Metl25\n",
    "    inds = [[6008, 5966]]\n",
    "    chrom = all_ind_to_region[inds[0][0]][0]\n",
    "    for i1, i2 in inds:\n",
    "        s = (i1 - chrom_to_start[chrom])*250_000+105_000\n",
    "        e = (i2 - chrom_to_start[chrom])*250_000+165_000\n",
    "        grange1, grange2 = (chrom, s, s+5_000), (chrom, e, e+5_000)\n",
    "        fig, axs, _ = make_simple_plot_grange_collapsing(grange1, grange2, extend_by=180_000, \n",
    "                                                 logp_co = 15,\n",
    "                                          ignore_set = {'Chd4', 'Lag3', 'Lpar5', 'Gnb3', '4930557K07Rik', 'Cops7a', \n",
    "                                                        'Cdca3', 'Mlf2', 'Usp5', 'Lrrc23', 'Lpcat3', 'Gm45234', 'Pianp', \n",
    "                                                        '2010008C14Rik', 'A230083G16Rik', 'Cd4', 'Ptpn6', 'Tpi1', 'P3h3', 'Phb2', \n",
    "                                                        'Gm29008', 'Gpr162', 'Eno2', 'Zfp384', 'Emg1', 'Ing4', 'Gm15884', 'Gm23547', 'Gm23851', \n",
    "                                                        'Grcc10', 'Spsb2', 'Atn1', 'Gm23751', 'Ptms', 'Acrbp', 'Gm20531',  'Gm44597', \n",
    "                                                        '4930402H05Rik', 'Gm44278', 'Iqsec1', 'Gm44002', 'Gm14573',\n",
    "                                                       'Park7', 'Errfi1', 'Camta1', 'Gm23405',\n",
    "                                                        'Mmp7', 'Mmp20', 'Yap1', 'Birc3', 'AV064505', 'Gm20416', 'Gm47214',\n",
    "                                                        'Gm44645', 'Gm23020', 'Gm26176', 'A730056A06Rik', 'Gm44738', 'Gm44739', \n",
    "                                                        'Gm44736', 'Gm44737', 'Gm44734', 'Gm44758', 'Gm44552', '1810026B05Rik', 'C130083A15Rik', \n",
    "                                                        'Gm44553', 'Gm44686',\n",
    "                                                        'Gm44934', 'Gm19656', 'Gm45132', 'Gm23040', 'A630091E08Rik', 'Gm15506', '2310039L15Rik', '5730420D15Rik', 'Gm47599', 'Gm48880', 'Gm48882', 'Gm25342', 'Gm24237', 'Gm48363', 'n-R5s80', 'Gm48298', 'Ccdc59',\n",
    "    \n",
    "    \n",
    "    \n",
    "                                                       })\n",
    "        axs[1].set_ylim([-.5, 2.5])\n",
    "        plt.gcf().savefig(\"./plots/paper/s28/socs2.pdf\", bbox_inches='tight')\n",
    "\n",
    "    \n",
    "    ### Emsy/Lrrc32 <-> Chd2\n",
    "    inds = [[4279, 4380]]\n",
    "    chrom = all_ind_to_region[inds[0][0]][0]\n",
    "    for i1, i2 in inds:\n",
    "        s = (i1 - chrom_to_start[chrom])*250_000+235_000\n",
    "        e = (i2 - chrom_to_start[chrom])*250_000+165_000\n",
    "        grange1, grange2 = (chrom, s, s+5_000), (chrom, e, e+5_000)\n",
    "        fig, axs, _ = make_simple_plot_grange_collapsing(grange1, grange2, extend_by=160_000, \n",
    "                                                 logp_co = 15,\n",
    "                                          ignore_set = {'Chd4', 'Lag3', 'Lpar5', 'Gnb3', '4930557K07Rik', 'Cops7a', \n",
    "                                                        'Cdca3', 'Mlf2', 'Usp5', 'Lrrc23', 'Lpcat3', 'Gm45234', 'Pianp', \n",
    "                                                        '2010008C14Rik', 'A230083G16Rik', 'Cd4', 'Ptpn6', 'Tpi1', 'P3h3', 'Phb2', \n",
    "                                                        'Gm29008', 'Gpr162', 'Eno2', 'Zfp384', 'Emg1', 'Ing4', 'Gm15884', 'Gm23547', 'Gm23851', \n",
    "                                                        'Grcc10', 'Spsb2', 'Atn1', 'Gm23751', 'Ptms', 'Acrbp', 'Gm20531',  'Gm44597', \n",
    "                                                        '4930402H05Rik', 'Gm44278', 'Iqsec1', 'Gm44002', 'Gm14573',\n",
    "                                                       'Park7', 'Errfi1', 'Camta1', 'Gm23405',\n",
    "                                                        'Mmp7', 'Mmp20', 'Yap1', 'Birc3', 'AV064505', 'Gm20416', 'Gm47214',\n",
    "                                                        'Gm44645', 'Gm23020', 'Gm26176', 'A730056A06Rik', 'Gm44738', 'Gm44739', \n",
    "                                                        'Gm44736', 'Gm44737', 'Gm44734', 'Gm44758', 'Gm44552', '1810026B05Rik', 'C130083A15Rik', \n",
    "                                                        'Gm44553', 'Gm44686',\n",
    "                                                        'Gm44934', 'Gm19656', 'Gm45132', 'Gm23040', 'A630091E08Rik', 'Gm15506',\n",
    "    \n",
    "    \n",
    "                                                       })\n",
    "        axs[1].set_ylim([-.5, 2.5])\n",
    "        plt.gcf().savefig(\"./plots/paper/s28/emsy.pdf\", bbox_inches='tight')\n",
    "\n",
    "\n",
    "    ### Cd38 / Kcnip4\n",
    "    inds = [[2972, 2954]]\n",
    "    chrom = all_ind_to_region[inds[0][0]][0]\n",
    "    for i1, i2 in inds:\n",
    "        s = (i1 - chrom_to_start[chrom])*250_000+105_000\n",
    "        e = (i2 - chrom_to_start[chrom])*250_000+135_000\n",
    "        grange1, grange2 = (chrom, s, s+5_000), (chrom, e, e+5_000)\n",
    "        fig, axs, _ = make_simple_plot_grange_collapsing(grange1, grange2, extend_by=160_000, \n",
    "                                                 logp_co = 15,\n",
    "                                          ignore_set = {'Chd4', 'Lag3', 'Lpar5', 'Gnb3', '4930557K07Rik', 'Cops7a', \n",
    "                                                        'Cdca3', 'Mlf2', 'Usp5', 'Lrrc23', 'Lpcat3', 'Gm45234', 'Pianp', \n",
    "                                                        '2010008C14Rik', 'A230083G16Rik', 'Cd4', 'Ptpn6', 'Tpi1', 'P3h3', 'Phb2', \n",
    "                                                        'Gm29008', 'Gpr162', 'Eno2', 'Zfp384', 'Emg1', 'Ing4', 'Gm15884', 'Gm23547', 'Gm23851', \n",
    "                                                        'Grcc10', 'Spsb2', 'Atn1', 'Gm23751', 'Ptms', 'Acrbp', 'Gm20531',  'Gm44597', \n",
    "                                                        '4930402H05Rik', 'Gm44278', 'Iqsec1', 'Gm44002', 'Gm14573',\n",
    "                                                       'Park7', 'Errfi1', 'Camta1', 'Gm23405',\n",
    "                                                        'Mmp7', 'Mmp20', 'Yap1', 'Birc3', 'AV064505', 'Gm20416', 'Gm47214', # 'Panx1', # '1700012B09Rik', # 'Hephl1', 'Gm16302', 'Mre11a', # 'Ankrd49',\n",
    "                                                        'Prom1', 'Gm43183', 'Gm7879', 'Gm43184', 'Gm16014', 'Gm42555', 'Gm43182', 'Gm42716', 'Gm16015', 'Gm43181', 'Gm42535', 'Slit2', '5730480H06Rik', 'Gm42534', 'Gm42537', 'Gm42462', 'Cc2d2a',\n",
    "    \n",
    "                                                       })\n",
    "        axs[1].set_ylim([-.5, 2.5])\n",
    "        plt.gcf().savefig(\"./plots/paper/s28/cd38.pdf\", bbox_inches='tight')\n",
    "\n",
    "    ### Izumo1r / Birc2/3\n",
    "    inds = [[5117, 5145]]\n",
    "    chrom = all_ind_to_region[inds[0][0]][0]\n",
    "    for i1, i2 in inds:\n",
    "        s = (i1 - chrom_to_start[chrom])*250_000+65_000\n",
    "        e = (i2 - chrom_to_start[chrom])*250_000+165_000\n",
    "        grange1, grange2 = (chrom, s, s+5_000), (chrom, e, e+5_000)\n",
    "        fig, axs, _ = make_simple_plot_grange_collapsing(grange1, grange2, extend_by=160_000, \n",
    "                                                 logp_co = 15,\n",
    "                                          ignore_set = {'Chd4', 'Lag3', 'Lpar5', 'Gnb3', '4930557K07Rik', 'Cops7a', \n",
    "                                                        'Cdca3', 'Mlf2', 'Usp5', 'Lrrc23', 'Lpcat3', 'Gm45234', 'Pianp', \n",
    "                                                        '2010008C14Rik', 'A230083G16Rik', 'Cd4', 'Ptpn6', 'Tpi1', 'P3h3', 'Phb2', \n",
    "                                                        'Gm29008', 'Gpr162', 'Eno2', 'Zfp384', 'Emg1', 'Ing4', 'Gm15884', 'Gm23547', 'Gm23851', \n",
    "                                                        'Grcc10', 'Spsb2', 'Atn1', 'Gm23751', 'Ptms', 'Acrbp', 'Gm20531',  'Gm44597', \n",
    "                                                        '4930402H05Rik', 'Gm44278', 'Iqsec1', 'Gm44002', 'Gm14573',\n",
    "                                                       'Park7', 'Errfi1', 'Camta1', 'Gm23405',\n",
    "                                                        'Mmp7', 'Mmp20', 'Yap1', 'AV064505', 'Gm20416', 'Gm47214', 'Panx1',\n",
    "                                                        '1700012B09Rik', # 'Hephl1', 'Gm16302', 'Mre11a', # 'Ankrd49',,\n",
    "                                                        'Gpr83','Gm16302',\n",
    "                                                       })\n",
    "        axs[1].set_ylim([-.5, 2.5])\n",
    "        plt.gcf().savefig(\"./plots/paper/s28/izumo1r.pdf\", bbox_inches='tight')"
   ]
  },
  {
   "cell_type": "code",
   "execution_count": 13,
   "id": "7ce4aed4-ac90-4dca-8238-dc9ccf572a70",
   "metadata": {},
   "outputs": [],
   "source": [
    "from plotting_functions import *\n",
    "def make_figure_6a():\n",
    "    coolfile = cooler.Cooler('./Treg_all.mcool::/resolutions/50000')\n",
    "    fig = plot_from_cooler_and_anchors(coolfile, \n",
    "                                  ('16', 59500000, 59550000),\n",
    "                                  ('16', 64800000, 64850000),\n",
    "                                d=600_000, cols=1)\n",
    "    plt.grid(False)\n",
    "    plt.title('Treg (50kb)')\n",
    "    fig.savefig(\"./plots/compendium_plots/chr16_zoom_out.pdf\", bbox_inches='tight')\n",
    "    \n",
    "    fig = plot_from_cooler_and_anchors(coolfile, \n",
    "                                  ('16', 59500000, 59550000),\n",
    "                                  ('16', 64800000, 64850000),\n",
    "                                d=200_000, cols=1)\n",
    "    plt.grid(False)\n",
    "    plt.title('Treg (50kb)')\n",
    "    fig.savefig(\"./plots/compendium_plots/chr16_zoom_in.pdf\", bbox_inches='tight')\n",
    "    \n",
    "    \n",
    "    coolfile = cooler.Cooler('./Treg_all.mcool::/resolutions/5000')\n",
    "    fig = plot_from_cooler_and_anchors(coolfile, \n",
    "                                  ('16', 59500000, 59550000),\n",
    "                                  ('16', 64800000, 64850000),\n",
    "                                  d=200_000, cols=1)\n",
    "    plt.grid(False)\n",
    "    plt.title('Treg (5kb)')\n",
    "    fig.savefig(\"./plots/compendium_plots/chr16_zoom_in_5kb.pdf\", bbox_inches='tight')\n",
    "    \n",
    "\n",
    "    fig, _ = make_comprehensive_plot_grange_collapsing(\n",
    "                                                  ('16', 59500000, 59550000),\n",
    "                                                  ('16', 64800000, 64850000),\n",
    "                                                  extend_by=200_000,\n",
    "                                                  logp_co=15,\n",
    "                                                    linewidth=.75,\n",
    "                                           );\n",
    "    fig.savefig(\"./plots/compendium_plots/chr16_zoom_in_5kb_compend.pdf\", bbox_inches='tight')\n",
    "    \n",
    "    \n",
    "    ### With genes\n",
    "    \n",
    "    chrom = '16'\n",
    "    for i1, i2 in inds:\n",
    "        grange1, grange2 = ('16', 59500000, 59550000), ('16', 64800000, 64850000)\n",
    "        fig, axs, _ = make_simple_plot_grange_collapsing(grange1, grange2, extend_by=200_000, \n",
    "                                                 logp_co = 15,\n",
    "                                          ignore_set = {\n",
    "                                              'Olfr206', 'Olfr205', 'Olfr204',  'Olfr203', 'Olfr209', '1700022E09Rik',  'AC154473.1',\n",
    "                                              'Gm23374', 'Csnka2ip','Cggbp1', 'Htr1f',\n",
    "                                              'Arl6', 'Crybg3', 'Gabrr3', \n",
    "                                          })\n",
    "        axs[1].set_ylim([-.5, 2.5])\n",
    "        plt.gcf().savefig(\"./plots/paper/fig6/A.pdf\", bbox_inches='tight')    "
   ]
  },
  {
   "cell_type": "code",
   "execution_count": 14,
   "id": "cd8d2d0d-a9b0-42cf-9c68-afb8e5021f14",
   "metadata": {},
   "outputs": [],
   "source": [
    "from get_focal_contacts_with_peak_prominence_refine import *\n",
    "def make_figure_s29a():\n",
    "    l1 = list(deepcopy(all_ind_to_region[2315]))\n",
    "    l1[1] -= 0*10_000\n",
    "    l1[2] -= 0*10_000\n",
    "    \n",
    "    l2 = list(deepcopy(all_ind_to_region[2326]))\n",
    "    l2[1] -= 100_000\n",
    "    l2[2] -= 100_000\n",
    "    \n",
    "    chrom = '16'\n",
    "    grange1, grange2 = l1, l2\n",
    "    fig, axs, _ = make_simple_plot_grange_collapsing(grange1, grange2, extend_by=100_000, \n",
    "                                             logp_co = 15,\n",
    "                                      ignore_set = {\n",
    "                                          'Olfr206', 'Olfr205', 'Olfr204',  'Olfr203', 'Olfr209', '1700022E09Rik',  'AC154473.1',\n",
    "                                          'Gm23374', 'Csnka2ip','Cggbp1', 'Htr1f',\n",
    "                                          'Arl6', 'Crybg3', 'Gabrr3', 'Olfr70',  'Tmem8b',  'Sit1',  'Msmp',  'Rusc2',  'Gba2',  'Hint2',  'Spaar',  'Npr2',  'Tpm2',  'Hrct1',  'Tln1',  'Olfr71',  'Spag8',  'Ccdc107',  'Arhgef39',  'Car9',  'AL732506.1',  'Fam166b',  'Rgp1',  'Fam221b',  'Tesk1',  'Rmrp',  'Aqp7', 'Aqp3', 'Spink4', 'Smu1', 'Chmp5', 'Nfx1', 'Dnaja1',\n",
    "    \n",
    "    \n",
    "                                      },\n",
    "                                                   skip_gm=True, skip_rik=True)\n",
    "    axs[1].set_ylim([-.5, 2.5])\n",
    "    \n",
    "    plt.gcf().savefig(\"./plots/paper/s29/A2bot.pdf\", bbox_inches='tight')    \n",
    "    \n",
    "    \n",
    "    \n",
    "    coolfile = cooler.Cooler('./Treg_all.mcool::/resolutions/50000')\n",
    "        \n",
    "    fig = plot_from_cooler_and_anchors(coolfile, l1, l2, d=100_000, cols=1,\n",
    "                                      fgsz=(40*mm, 40*mm))\n",
    "    plt.grid(False)\n",
    "    plt.title('Treg (50kb)')\n",
    "    plt.gcf().savefig(\"./plots/paper/s29/A2top.pdf\", bbox_inches='tight')    \n",
    "    \n",
    "    \n",
    "    l1 = all_ind_to_region[6293]\n",
    "    l2 = all_ind_to_region[6327]\n",
    "    \n",
    "    chrom = '16'\n",
    "    grange1, grange2 = l1, l2\n",
    "    fig, axs, _ = make_simple_plot_grange_collapsing(grange1, grange2, extend_by=200_000, \n",
    "                                             logp_co = 15,\n",
    "                                      ignore_set = {'Gpx3', 'Rapgef6', 'Slc36a1os', 'Ccdc69', 'Slc36a2', 'Hint1', 'Lyrm7os', 'Lyrm7', 'Slc36a3os', 'Adam19', 'Nipal4', 'Timd2', 'Dppa1', 'BC053393', 'Havcr2', 'Cyfip2', 'Med7', 'Fndc9',\n",
    "                                      },\n",
    "                                                   skip_gm=True, skip_rik=True)\n",
    "    axs[1].set_ylim([-.5, 2.5])\n",
    "    \n",
    "    plt.gcf().savefig(\"./plots/paper/s29/A1bot.pdf\", bbox_inches='tight')    \n",
    "    \n",
    "    \n",
    "    \n",
    "    coolfile = cooler.Cooler('./Treg_all.mcool::/resolutions/50000')\n",
    "        \n",
    "    fig = plot_from_cooler_and_anchors(coolfile, l1, l2, d=200_000, cols=1,\n",
    "                                      fgsz=(40*mm, 40*mm))\n",
    "    plt.grid(False)\n",
    "    plt.title('Treg (50kb)')\n",
    "    plt.gcf().savefig(\"./plots/paper/s29/A1top.pdf\", bbox_inches='tight')    \n",
    "    \n",
    "    \n",
    "    \n",
    "    coolfile = cooler.Cooler('./Treg_all.mcool::/resolutions/50000')\n",
    "    \n",
    "    l1 = list(deepcopy(all_ind_to_region[2722]))\n",
    "    l1[1] -= 150_000\n",
    "    l1[2] -= 150_000\n",
    "    l2 = all_ind_to_region[2757]\n",
    "    \n",
    "    fig, axs, _ = make_simple_plot_grange_collapsing(l1, l2, extend_by=550_000, \n",
    "                                             logp_co = 15,\n",
    "                                      ignore_set = {\n",
    "    'Park7', '1700045H11Rik', 'Nol9', 'Phf13', 'Thap3', 'Tas1r1', 'Dnajc11', 'Zbtb48', 'Klhl21', 'Gm37141', \n",
    "    'Tnfrsf9',  '4930455G09Rik', '4930589P08Rik', 'Errfi1', 'Gm13090', 'Gm23405', 'Gm13049', 'Vamp3', 'Uts2', 'Gm9768', 'Per3', 'Efhd2', 'Gm13052', 'Ctrc', 'Prdm2', 'Gm29367', 'Fhad1', 'Ctrcos', 'Tmem51os1', 'Gm37624', 'Fhad1os2', 'Gm13062', 'Gm13053', 'Fhad1os1', 'Casp9', 'Cela2a',\n",
    "                                      },\n",
    "                                                   skip_gm=False, skip_rik=False)\n",
    "    axs[1].set_ylim([-.5, 2.5])\n",
    "    plt.gcf().savefig(\"./plots/paper/s29/A3bot.pdf\", bbox_inches='tight')\n",
    "\n",
    "    \n",
    "    coolfile = cooler.Cooler('./Treg_all.mcool::/resolutions/50000')\n",
    "    \n",
    "    l1 = list(deepcopy(all_ind_to_region[2722]))\n",
    "    l1[1] -= 150_000\n",
    "    l1[2] -= 150_000\n",
    "    l2 = all_ind_to_region[2757]\n",
    "    \n",
    "    fig = plot_from_cooler_and_anchors(coolfile, l1, l2, d=550_000, cols=1, fgsz=(40*mm, 40*mm))\n",
    "    plt.grid(False)\n",
    "    plt.title('Treg (50kb)')\n",
    "    plt.gcf().savefig(\"./plots/paper/s29/A3top.pdf\", bbox_inches='tight')    "
   ]
  },
  {
   "cell_type": "markdown",
   "id": "44fba055",
   "metadata": {},
   "source": [
    "#### Make Figure 6A"
   ]
  },
  {
   "cell_type": "code",
   "execution_count": null,
   "id": "bcec25df-f1f7-406a-bae2-190b321aaab6",
   "metadata": {},
   "outputs": [],
   "source": [
    "goodinds = pickle.load(open('./intermediate_files/goodinds', 'rb'))\n",
    "merged_clustdict = pickle.load(open('./intermediate_files/merged_clustdict', 'rb'))"
   ]
  },
  {
   "cell_type": "code",
   "execution_count": null,
   "id": "ba774baf-af75-4c34-a339-3b0d2e63f2bc",
   "metadata": {},
   "outputs": [],
   "source": [
    "make_figure_6a()"
   ]
  },
  {
   "cell_type": "markdown",
   "id": "1c877226-7cbd-47c0-a8ca-d1423d279f7f",
   "metadata": {},
   "source": [
    "#### Figure S29 A"
   ]
  },
  {
   "cell_type": "code",
   "execution_count": null,
   "id": "be09ccf0-b8cb-4560-8b0d-120cb4fb3bd7",
   "metadata": {},
   "outputs": [],
   "source": [
    "make_figure_s29a()"
   ]
  },
  {
   "cell_type": "markdown",
   "id": "774cd252",
   "metadata": {},
   "source": [
    "#### Add gene annotations to 5kb anchors"
   ]
  },
  {
   "cell_type": "code",
   "execution_count": 15,
   "id": "f4ce56cb-f10c-4445-84c6-5874779687f9",
   "metadata": {},
   "outputs": [],
   "source": [
    "all_metaloops = pbt.BedTool(\"final_loops/metaloops/refined_metaloops/refined_metaloops.bed\")\n",
    "all_metaloop_anchors = pbt.BedTool(\"final_loops/metaloops/refined_metaloops/refined_metaloop_anchors.bed\")\n",
    "metaloop_anchor_counts = all_metaloop_anchors.to_dataframe().value_counts().reset_index()"
   ]
  },
  {
   "cell_type": "code",
   "execution_count": 16,
   "id": "88497c04-3d6d-48e4-8e3c-860d97f2a928",
   "metadata": {},
   "outputs": [],
   "source": [
    "def drop_bedtool_duplicates(bedtool, cutoff = 0):\n",
    "    l = bedtool.to_dataframe().value_counts().reset_index()\n",
    "    l = l[l['count'] > cutoff]\n",
    "    return pbt.BedTool.from_dataframe(l)"
   ]
  },
  {
   "cell_type": "code",
   "execution_count": 21,
   "id": "5238bcd1",
   "metadata": {},
   "outputs": [],
   "source": [
    "df = pd.read_csv(\"./intermediate_files/metaloop_gene_pairs\")"
   ]
  },
  {
   "cell_type": "code",
   "execution_count": 22,
   "id": "72781bba-8fe0-4542-8185-f99ce14a5206",
   "metadata": {},
   "outputs": [],
   "source": [
    "all_metaloops = pbt.BedTool(\"final_loops/metaloops/refined_metaloops/refined_metaloops.bed\")\n",
    "all_metaloop_anchors = pbt.BedTool(\"final_loops/metaloops/refined_metaloops/refined_metaloop_anchors.bed\")\n",
    "\n",
    "loop_anchors = add_chr_to_bedtool(pbt.BedTool('final_loops/processed_DESEQ/thresh=0/all_ancs.csv'))\n",
    "# Deduplicate\n",
    "dedup_all_metaloop_anchors = drop_bedtool_duplicates(add_chr_to_bedtool(all_metaloop_anchors), cutoff=0)\n",
    "\n",
    "shifted_dedup_all_metaloop_anchors = dedup_all_metaloop_anchors.shift(s=50_000, genome='mm10')"
   ]
  },
  {
   "cell_type": "code",
   "execution_count": 28,
   "id": "697d1898",
   "metadata": {},
   "outputs": [
    {
     "name": "stderr",
     "output_type": "stream",
     "text": [
      "/Genomics/argo/users/gdolsten/.conda/envs/mamba/envs/new_3dgenome/lib/python3.10/site-packages/seaborn/_oldcore.py:1498: FutureWarning: is_categorical_dtype is deprecated and will be removed in a future version. Use isinstance(dtype, CategoricalDtype) instead\n",
      "  if pd.api.types.is_categorical_dtype(vector):\n",
      "/Genomics/argo/users/gdolsten/.conda/envs/mamba/envs/new_3dgenome/lib/python3.10/site-packages/seaborn/_oldcore.py:1498: FutureWarning: is_categorical_dtype is deprecated and will be removed in a future version. Use isinstance(dtype, CategoricalDtype) instead\n",
      "  if pd.api.types.is_categorical_dtype(vector):\n",
      "/Genomics/argo/users/gdolsten/.conda/envs/mamba/envs/new_3dgenome/lib/python3.10/site-packages/seaborn/_oldcore.py:1765: FutureWarning: unique with argument that is not not a Series, Index, ExtensionArray, or np.ndarray is deprecated and will raise in a future version.\n",
      "  order = pd.unique(vector)\n",
      "/Genomics/argo/users/gdolsten/.conda/envs/mamba/envs/new_3dgenome/lib/python3.10/site-packages/seaborn/_oldcore.py:1498: FutureWarning: is_categorical_dtype is deprecated and will be removed in a future version. Use isinstance(dtype, CategoricalDtype) instead\n",
      "  if pd.api.types.is_categorical_dtype(vector):\n"
     ]
    },
    {
     "data": {
      "image/png": "[encoded data removed]",
      "text/plain": [
       "<Figure size 354.331x236.22 with 1 Axes>"
      ]
     },
     "metadata": {
      "image/png": {
       "height": 440,
       "width": 724
      },
      "needs_background": "light"
     },
     "output_type": "display_data"
    }
   ],
   "source": [
    "from plotting_functions import *\n",
    "\n",
    "bound = 10_000\n",
    "p = bedprop(dedup_all_metaloop_anchors, loop_anchors.slop(b=bound, genome='mm10').saveas())\n",
    "p_shift = bedprop(dedup_all_metaloop_anchors.shift(s=50_000, genome='mm10'), loop_anchors.slop(b=bound, genome='mm10').saveas())\n",
    "\n",
    "fig, axs = init_subplots_exact(1, 1, fgsz=(mm*30, mm*20), dpi=300)\n",
    "sns.barplot(y=['Real Metaloop \\nAnchors', 'Shifted Metaloop \\nAnchors (50kb)',], x=[p, p_shift], orient='h', palette = ['tab:blue', 'lightgray'],\n",
    "           linewidth=.25, edgecolor='black', zorder=3)\n",
    "plt.title(\"Frac. metaloop anchors \\nin 10kb of loop\")\n",
    "plt.xlim([0, 1])\n",
    "fig.savefig('./plots/paper/fig6/foci_with_anchor.pdf', bbox_inches='tight', dpi=300)"
   ]
  },
  {
   "cell_type": "code",
   "execution_count": 29,
   "id": "07e0284d-3e0c-41ff-b4e9-337f4283f7e3",
   "metadata": {},
   "outputs": [],
   "source": [
    "p = bedprop(dedup_all_metaloop_anchors, loop_anchors.slop(b=bound, genome='mm10').saveas())\n",
    "p_shift = bedprop(dedup_all_metaloop_anchors.shift(s=50_000, genome='mm10'), loop_anchors.slop(b=bound, genome='mm10').saveas())"
   ]
  },
  {
   "cell_type": "code",
   "execution_count": 32,
   "id": "cfcc5022-9c30-40ca-ba19-eea599e9ba68",
   "metadata": {},
   "outputs": [
    {
     "data": {
      "text/plain": [
       "(9710.0, 4878.000000000001)"
      ]
     },
     "execution_count": 32,
     "metadata": {},
     "output_type": "execute_result"
    }
   ],
   "source": [
    "p*len(dedup_all_metaloop_anchors), (1-p)*len(dedup_all_metaloop_anchors)"
   ]
  },
  {
   "cell_type": "code",
   "execution_count": 33,
   "id": "2c86a0b4-32b0-476d-827b-8287f6c764af",
   "metadata": {},
   "outputs": [
    {
     "data": {
      "text/plain": [
       "SignificanceResult(statistic=3.7471170700642, pvalue=0.0)"
      ]
     },
     "execution_count": 33,
     "metadata": {},
     "output_type": "execute_result"
    }
   ],
   "source": [
    "scipy.stats.fisher_exact([[int(p*len(dedup_all_metaloop_anchors)), int((1-p)*len(dedup_all_metaloop_anchors))],\n",
    "                          [int(p_shift*len(dedup_all_metaloop_anchors)), int((1-p_shift)*len(dedup_all_metaloop_anchors))]\n",
    "                         ],)"
   ]
  },
  {
   "cell_type": "markdown",
   "id": "6fdae49d-545d-4325-8da3-07432dd91cd8",
   "metadata": {},
   "source": [
    "### Include hub analysis"
   ]
  },
  {
   "cell_type": "code",
   "execution_count": 353,
   "id": "0de34076-7d37-4aed-98b8-ddc554afb22b",
   "metadata": {},
   "outputs": [],
   "source": [
    "goodinds = pickle.load(open('./for_snipping/goodinds', 'rb'))\n",
    "merged_clustdict = pickle.load(open('./for_snipping/merged_clustdict', 'rb'))"
   ]
  },
  {
   "cell_type": "code",
   "execution_count": 389,
   "id": "b144ddf0-6f89-4abc-9e91-3a8a8b6233b7",
   "metadata": {},
   "outputs": [],
   "source": [
    "cluster_labels = [list(all_ind_to_region[x]) + [merged_clustdict['all'][c]] for c, x in enumerate(goodinds)]\n",
    "cluster_labels = pd.DataFrame(cluster_labels)\n",
    "cluster_labels = cluster_labels[cluster_labels[3].isin([0, 4, 18])]\n",
    "cluster_labels = add_chr_to_bedtool(pbt.BedTool.from_dataframe(cluster_labels))"
   ]
  },
  {
   "cell_type": "markdown",
   "id": "eded4f65-583d-4ccf-9949-a44ab76d7141",
   "metadata": {},
   "source": [
    "### Show which metadomains have more metaloops"
   ]
  },
  {
   "cell_type": "code",
   "execution_count": 588,
   "id": "0d83488b-820a-4f0f-8a1a-fac07edb8783",
   "metadata": {},
   "outputs": [
    {
     "name": "stdout",
     "output_type": "stream",
     "text": [
      "Done with 1\n",
      "Done with 10\n",
      "Done with 11\n",
      "Done with 12\n",
      "Done with 13\n",
      "Done with 14\n",
      "Done with 15\n",
      "Done with 16\n",
      "Done with 17\n",
      "Done with 18\n",
      "Done with 19\n",
      "Done with 2\n",
      "Done with 3\n",
      "Done with 4\n",
      "Done with 5\n",
      "Done with 6\n",
      "Done with 7\n",
      "Done with 8\n",
      "Done with 9\n",
      "Done with X\n"
     ]
    }
   ],
   "source": [
    "def make_shrunk_mat(input_mat, chrom_n, binarize=True, sum=True):\n",
    "    created_n = len(input_mat)\n",
    "    fullmat = np.zeros((5*chrom_n, 5*chrom_n))\n",
    "    if binarize:\n",
    "        fullmat[:created_n, :created_n] = (input_mat > 0)\n",
    "    else:\n",
    "        fullmat[:created_n, :created_n] = (input_mat)\n",
    "    if sum:\n",
    "        shrunkmat = fullmat.reshape(chrom_n, 5, chrom_n, 5).sum(axis=(1, 3))\n",
    "    else:\n",
    "        shrunkmat = fullmat.reshape(chrom_n, 5, chrom_n, 5).max(axis=(1, 3))\n",
    "    return shrunkmat\n",
    "\n",
    "metadomain_mat_pref = './metadomain_prominent_peak_output'\n",
    "n = len(all_ind_to_region)\n",
    "all_intra_treg_metadomains = np.zeros((n, n))\n",
    "all_intra_tcon_metadomains = np.zeros((n, n))\n",
    "\n",
    "metadomain_counts = []\n",
    "for chrom in CHROMS_TO_USE:\n",
    "    s, e = chrom_to_start[chrom], chrom_to_end[chrom]\n",
    "    chrom_n = e - s\n",
    "    treg_mat = np.load(f'{metadomain_mat_pref}/treg_res=50000_intrachromosomal_chrL={chrom}_chrR={chrom}_collapsed_logp_mat.npy')\n",
    "    treg_mat = np.triu(treg_mat, k=40)\n",
    "    treg_shrunkmat = make_shrunk_mat(treg_mat, chrom_n)\n",
    "    all_intra_treg_metadomains[s:e, s:e] = (treg_shrunkmat + treg_shrunkmat.T).copy()    \n",
    "\n",
    "    tcon_mat = np.load(f'{metadomain_mat_pref}/tcon_res=50000_intrachromosomal_chrL={chrom}_chrR={chrom}_collapsed_logp_mat.npy')\n",
    "    tcon_mat = np.triu(tcon_mat, k=40)\n",
    "    tcon_shrunkmat = make_shrunk_mat(tcon_mat, chrom_n)\n",
    "    all_intra_tcon_metadomains[s:e, s:e] = (tcon_shrunkmat + tcon_shrunkmat.T).copy()    \n",
    "\n",
    "    print(\"Done with\", chrom)\n",
    "\n",
    "all_intra_metadomains = (all_intra_treg_metadomains + all_intra_tcon_metadomains) > 0"
   ]
  },
  {
   "cell_type": "code",
   "execution_count": null,
   "id": "4a4dccc7-8b34-48d4-8d24-9e9c5c66999d",
   "metadata": {},
   "outputs": [],
   "source": []
  },
  {
   "cell_type": "code",
   "execution_count": 590,
   "id": "e1e2724a-2424-442f-b23e-08c2b8eba3be",
   "metadata": {},
   "outputs": [],
   "source": [
    "def add_stat_annotation(ax, data, xcol, ycol, order, box_pairs, ymax=1.2, delta=0.1):\n",
    "    \"\"\"Add statistical annotations for comparing different y values.\"\"\"\n",
    "    y_positions = {v: i for i, v in enumerate(order)}\n",
    "    yoff = 0\n",
    "    print(y_positions)\n",
    "    seen = set()\n",
    "    for c, pair in enumerate(box_pairs):\n",
    "        \n",
    "        yoff += delta\n",
    "        \n",
    "        data1 = data[data[ycol] == pair[0]][xcol]\n",
    "        data2 = data[data[ycol] == pair[1]][xcol]\n",
    "\n",
    "        stat, p_value = nonan_test(data1, data2)\n",
    "    \n",
    "        y1 = y_positions[pair[0]]\n",
    "        y2 = y_positions[pair[1]]\n",
    "        \n",
    "        y = ymax + yoff\n",
    "        h, col = 1.015, 'k'\n",
    "        \n",
    "        ax.plot([y, y * h, y * h, y], [y1, y1, y2, y2], lw=0.25, c=col)\n",
    "        ax.text((y * h), (y1+y2) / 2, f'{format_pval_as_asterisks(p_value)}', ha='left', va='center', color=col,\n",
    "                rotation=-90,\n",
    "                fontsize=4)"
   ]
  },
  {
   "cell_type": "code",
   "execution_count": 597,
   "id": "0372c506-cf3d-4d78-9642-222dbc25f94f",
   "metadata": {},
   "outputs": [],
   "source": [
    "w1 = cluster_labels.to_dataframe()\n",
    "w1 = w1.iloc[:, :4]\n",
    "w1.columns = ['chrom', 'start', 'end', 'cluster']\n",
    "\n",
    "w2 = pbt.BedTool(add_chr_to_bedtool(all_ind_to_region)).intersect(add_chr_to_bedtool(all_metaloop_anchors), c=True).to_dataframe()\n",
    "w2.columns = ['chrom', 'start', 'end', 'n_foci']\n",
    "\n",
    "data = pd.concat([w1.set_index(['chrom', 'start', 'end']),\n",
    "                 w2.set_index(['chrom', 'start', 'end']),\n",
    "           ], axis=1).fillna(\"Other\").reset_index()"
   ]
  },
  {
   "cell_type": "code",
   "execution_count": 598,
   "id": "7522139b-489a-403e-b77c-70956aad2188",
   "metadata": {},
   "outputs": [
    {
     "name": "stderr",
     "output_type": "stream",
     "text": [
      "/tmp/ipykernel_3259455/3612819675.py:10: SettingWithCopyWarning: \n",
      "A value is trying to be set on a copy of a slice from a DataFrame\n",
      "\n",
      "See the caveats in the documentation: https://pandas.pydata.org/pandas-docs/stable/user_guide/indexing.html#returning-a-view-versus-a-copy\n",
      "  data['cluster'][(data['cluster'] == 'Other') &  (data['compartment'] > 0)] = 'A'\n"
     ]
    }
   ],
   "source": [
    "my_treg_comp = pickle.load(open('./intermediate_files/my_treg_comp', 'rb'))\n",
    "granges = [] \n",
    "for _, row in data.iterrows():\n",
    "    granges.append(tuple_to_grange(row.chrom[3:], row.start, row.end))\n",
    "data.index = granges\n",
    "\n",
    "granges_in_order = [tuple_to_grange(*x) for x in all_ind_to_region]\n",
    "data = data.loc[granges_in_order]\n",
    "data['compartment'] = my_treg_comp > .9\n",
    "data['cluster'][(data['cluster'] == 'Other') &  (data['compartment'] > 0)] = 'A'\n",
    "data['n_metaloops']= all_intra_metadomains.sum(axis=1)\n",
    "data = data[data['n_metaloops'] > 0]\n",
    "data['metaloops_per_metadomain']= data['n_foci'] / data['n_metaloops']"
   ]
  },
  {
   "cell_type": "code",
   "execution_count": 602,
   "id": "24d2d842-2d4a-4900-836b-3c778ecb1b8a",
   "metadata": {},
   "outputs": [
    {
     "name": "stderr",
     "output_type": "stream",
     "text": [
      "/Genomics/argo/users/gdolsten/.conda/envs/mamba/envs/new_3dgenome/lib/python3.10/site-packages/seaborn/_oldcore.py:1498: FutureWarning: is_categorical_dtype is deprecated and will be removed in a future version. Use isinstance(dtype, CategoricalDtype) instead\n",
      "  if pd.api.types.is_categorical_dtype(vector):\n",
      "/Genomics/argo/users/gdolsten/.conda/envs/mamba/envs/new_3dgenome/lib/python3.10/site-packages/seaborn/_oldcore.py:1498: FutureWarning: is_categorical_dtype is deprecated and will be removed in a future version. Use isinstance(dtype, CategoricalDtype) instead\n",
      "  if pd.api.types.is_categorical_dtype(vector):\n"
     ]
    },
    {
     "name": "stdout",
     "output_type": "stream",
     "text": [
      "{'A': 0, 0: 1, 4: 2, 18: 3, 'Other': 4}\n"
     ]
    },
    {
     "data": {
      "image/png": "[encoded data removed]",
      "text/plain": [
       "<Figure size 472.441x236.22 with 1 Axes>"
      ]
     },
     "metadata": {
      "image/png": {
       "height": 442,
       "width": 748
      },
      "needs_background": "light"
     },
     "output_type": "display_data"
    }
   ],
   "source": [
    "order = ['A', 0, 4, 18, 'Other', ]\n",
    "fig, axs = init_subplots_exact(1, 1, fgsz=(40*mm, 20*mm), dpi=300)\n",
    "sns.boxplot(data = data, y = 'cluster', x = 'metaloops_per_metadomain', #cut=0, \n",
    "            palette = ['skyblue', 'lightgreen', 'green', 'orange', 'lightgray'],\n",
    "            orient='h',\n",
    "            order = order,\n",
    "            showfliers=False,\n",
    "           #   width = 1.2,\n",
    "           )\n",
    "plt.gca().set_yticklabels([\"A Compartment\", \"Active 1\", \"Active 2\", \"Repressive\", \"Other\"])\n",
    "plt.title(\"# Metaloops per metadomain\")\n",
    "plt.xlabel(\"# Foci\")\n",
    "plt.ylabel(\"\")\n",
    "plt.gca().set_axisbelow(True)\n",
    "\n",
    "add_stat_annotation(plt.gca(), data, 'metaloops_per_metadomain', 'cluster', order, [\n",
    "                                                                             [18, 'Other'],\n",
    "                                                                             [4, 18],\n",
    "                                                                             [0, 4],\n",
    "                                                                             ['A', 0],\n",
    "                                                                             [4, 'Other'],\n",
    "                                                                             [0, 'Other'],\n",
    "                                                                            ], ymax=3, delta=.4)"
   ]
  },
  {
   "cell_type": "code",
   "execution_count": 57,
   "id": "157e8cf6-89ff-4008-97ee-cb78131b31d0",
   "metadata": {},
   "outputs": [],
   "source": [
    "from plotting_functions import *\n",
    "from get_focal_contacts_with_peak_prominence_refine import *\n",
    "\n",
    "def make_figure_5e_f():\n",
    "    _2 = plot_from_cooler_and_anchors(coolfile, \n",
    "                                  ['4', 40750000, 41000000],\n",
    "                                  ['4', 123250000+150_00, 123500000+150_00],\n",
    "                                 d=300_000, cols=1, fgsz = (20*mm, 20*mm))\n",
    "    plt.grid(False)\n",
    "    plt.title('Treg (50kb)')\n",
    "    _2.savefig('./plots/FINAL_MEGA_PLOTS/active1_active1.pdf', bbox_inches='tight', dpi=200)\n",
    "        \n",
    "    _ = make_comprehensive_plot_grange_collapsing(\n",
    "                                  ['4', 40750000, 41000000],\n",
    "                                  ['4', 123250000+150_00, 123500000+150_00],\n",
    "                                  extend_by=300_000,\n",
    "                                  logp_co=15, s = 60, linewidth = .5,\n",
    "                                  fgsz=(20*mm, 20*mm));\n",
    "    coolfile = cooler.Cooler('./Treg_all.mcool::/resolutions/50000')\n",
    "    \n",
    "    _[0].axes[0].grid(False)\n",
    "    _[0].savefig('./plots/FINAL_MEGA_PLOTS/active1_active1_zoom.pdf', bbox_inches='tight')\n",
    "\n",
    "\n",
    "\n",
    "    _ = make_comprehensive_plot_grange_collapsing(\n",
    "                                  ['2', 154000000-60_000, 154250000-60_000],\n",
    "                                  ['2', 166250000-60_000, 166500000-60_000],\n",
    "                                extend_by=400_000, logp_co=15, fgsz=(20*mm, 20*mm));\n",
    "    _[0].axes[0].grid(False)\n",
    "    _[0].savefig('./plots/FINAL_MEGA_PLOTS/repr_repr_zoom.pdf', bbox_inches='tight')\n",
    "    \n",
    "    coolfile = cooler.Cooler('./Treg_all.mcool::/resolutions/50000')\n",
    "    \n",
    "    _2 = plot_from_cooler_and_anchors(coolfile, \n",
    "                                      ['2', 154000000-60_000, 154250000-60_000], ['2', 166250000-60_000, 166500000-60_000],\n",
    "                                      d=400_000, fgsz=(20*mm, 20*mm), cols=1)\n",
    "    plt.grid(False)\n",
    "    plt.title('Treg (50kb)')\n",
    "    _2.savefig('./plots/FINAL_MEGA_PLOTS/repr_repr.pdf', bbox_inches='tight', dpi=200)"
   ]
  }
 ],
 "metadata": {
  "kernelspec": {
   "display_name": "Python 3 (ipykernel)",
   "language": "python",
   "name": "python3"
  },
  "language_info": {
   "codemirror_mode": {
    "name": "ipython",
    "version": 3
   },
   "file_extension": ".py",
   "mimetype": "text/x-python",
   "name": "python",
   "nbconvert_exporter": "python",
   "pygments_lexer": "ipython3",
   "version": "3.10.12"
  }
 },
 "nbformat": 4,
 "nbformat_minor": 5
}
